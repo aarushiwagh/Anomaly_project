{
 "cells": [
  {
   "cell_type": "markdown",
   "id": "3224ff1f",
   "metadata": {},
   "source": [
    "# Using Decision tree classification technique"
   ]
  },
  {
   "cell_type": "markdown",
   "id": "3e10e2c0",
   "metadata": {},
   "source": [
    "### Importing libraries"
   ]
  },
  {
   "cell_type": "code",
   "execution_count": 79,
   "id": "3ebc2d13",
   "metadata": {},
   "outputs": [],
   "source": [
    "import pandas as pd\n",
    "import numpy as nm\n",
    "import matplotlib.pyplot as plt\n",
    "from sklearn.tree import DecisionTreeClassifier\n",
    "from sklearn.ensemble import RandomForestClassifier\n",
    "from sklearn import datasets, linear_model\n",
    "from sklearn.metrics import mean_squared_error, confusion_matrix, precision_score, recall_score, f1_score, classification_report\n",
    "from sklearn.model_selection import train_test_split, cross_val_score, GridSearchCV\n",
    "from imblearn.over_sampling import RandomOverSampler\n",
    "from imblearn.under_sampling import RandomUnderSampler\n",
    "from collections import Counter"
   ]
  },
  {
   "cell_type": "markdown",
   "id": "34885263",
   "metadata": {},
   "source": [
    "### Reading and cleaning data"
   ]
  },
  {
   "cell_type": "code",
   "execution_count": 111,
   "id": "7cb03310",
   "metadata": {},
   "outputs": [
    {
     "data": {
      "text/html": [
       "<div>\n",
       "<style scoped>\n",
       "    .dataframe tbody tr th:only-of-type {\n",
       "        vertical-align: middle;\n",
       "    }\n",
       "\n",
       "    .dataframe tbody tr th {\n",
       "        vertical-align: top;\n",
       "    }\n",
       "\n",
       "    .dataframe thead th {\n",
       "        text-align: right;\n",
       "    }\n",
       "</style>\n",
       "<table border=\"1\" class=\"dataframe\">\n",
       "  <thead>\n",
       "    <tr style=\"text-align: right;\">\n",
       "      <th></th>\n",
       "      <th>time</th>\n",
       "      <th>app_cpu_netdata_x</th>\n",
       "      <th>app_cpu_apps.plugin_x</th>\n",
       "      <th>app_cpu_tc-qos-helper_x</th>\n",
       "      <th>app_cpu_go.d.plugin_x</th>\n",
       "      <th>app_cpu_logs_x</th>\n",
       "      <th>app_cpu_ssh_x</th>\n",
       "      <th>app_cpu_time_x</th>\n",
       "      <th>app_cpu_cron_x</th>\n",
       "      <th>app_cpu_system_x</th>\n",
       "      <th>...</th>\n",
       "      <th>pgio_out</th>\n",
       "      <th>running</th>\n",
       "      <th>blocked</th>\n",
       "      <th>free</th>\n",
       "      <th>used</th>\n",
       "      <th>cached</th>\n",
       "      <th>buffers</th>\n",
       "      <th>uptime</th>\n",
       "      <th>anomaly_score</th>\n",
       "      <th>label</th>\n",
       "    </tr>\n",
       "  </thead>\n",
       "  <tbody>\n",
       "    <tr>\n",
       "      <th>5041</th>\n",
       "      <td>17-08-2019 04:11</td>\n",
       "      <td>0.0000</td>\n",
       "      <td>0.9993</td>\n",
       "      <td>1.9986</td>\n",
       "      <td>0.0</td>\n",
       "      <td>0.0</td>\n",
       "      <td>0.9993</td>\n",
       "      <td>0</td>\n",
       "      <td>0</td>\n",
       "      <td>0.0</td>\n",
       "      <td>...</td>\n",
       "      <td>0.0</td>\n",
       "      <td>3</td>\n",
       "      <td>0</td>\n",
       "      <td>13897.359</td>\n",
       "      <td>397.0898</td>\n",
       "      <td>681.0234</td>\n",
       "      <td>54.78906</td>\n",
       "      <td>62084.0</td>\n",
       "      <td>-0.290622</td>\n",
       "      <td>Outlier</td>\n",
       "    </tr>\n",
       "    <tr>\n",
       "      <th>5042</th>\n",
       "      <td>17-08-2019 04:13</td>\n",
       "      <td>0.9986</td>\n",
       "      <td>0.9997</td>\n",
       "      <td>0.0000</td>\n",
       "      <td>0.0</td>\n",
       "      <td>0.0</td>\n",
       "      <td>0.9998</td>\n",
       "      <td>0</td>\n",
       "      <td>0</td>\n",
       "      <td>0.0</td>\n",
       "      <td>...</td>\n",
       "      <td>0.0</td>\n",
       "      <td>4</td>\n",
       "      <td>0</td>\n",
       "      <td>13962.949</td>\n",
       "      <td>331.4453</td>\n",
       "      <td>681.0586</td>\n",
       "      <td>54.80859</td>\n",
       "      <td>62158.0</td>\n",
       "      <td>-0.290622</td>\n",
       "      <td>Outlier</td>\n",
       "    </tr>\n",
       "    <tr>\n",
       "      <th>5043</th>\n",
       "      <td>17-08-2019 04:13</td>\n",
       "      <td>1.9980</td>\n",
       "      <td>0.9991</td>\n",
       "      <td>0.9991</td>\n",
       "      <td>0.0</td>\n",
       "      <td>0.0</td>\n",
       "      <td>0.0001</td>\n",
       "      <td>0</td>\n",
       "      <td>0</td>\n",
       "      <td>0.0</td>\n",
       "      <td>...</td>\n",
       "      <td>0.0</td>\n",
       "      <td>6</td>\n",
       "      <td>0</td>\n",
       "      <td>13935.891</td>\n",
       "      <td>358.5195</td>\n",
       "      <td>681.0430</td>\n",
       "      <td>54.80859</td>\n",
       "      <td>62161.0</td>\n",
       "      <td>-0.299818</td>\n",
       "      <td>Outlier</td>\n",
       "    </tr>\n",
       "    <tr>\n",
       "      <th>5044</th>\n",
       "      <td>17-08-2019 04:14</td>\n",
       "      <td>0.0000</td>\n",
       "      <td>1.0001</td>\n",
       "      <td>1.0001</td>\n",
       "      <td>0.0</td>\n",
       "      <td>0.0</td>\n",
       "      <td>0.0002</td>\n",
       "      <td>0</td>\n",
       "      <td>0</td>\n",
       "      <td>0.0</td>\n",
       "      <td>...</td>\n",
       "      <td>0.0</td>\n",
       "      <td>5</td>\n",
       "      <td>0</td>\n",
       "      <td>13641.918</td>\n",
       "      <td>652.4609</td>\n",
       "      <td>681.0547</td>\n",
       "      <td>54.82812</td>\n",
       "      <td>62227.0</td>\n",
       "      <td>-0.309119</td>\n",
       "      <td>Outlier</td>\n",
       "    </tr>\n",
       "    <tr>\n",
       "      <th>5045</th>\n",
       "      <td>17-08-2019 04:29</td>\n",
       "      <td>0.9989</td>\n",
       "      <td>0.9991</td>\n",
       "      <td>1.9982</td>\n",
       "      <td>0.0</td>\n",
       "      <td>0.0</td>\n",
       "      <td>0.0001</td>\n",
       "      <td>0</td>\n",
       "      <td>0</td>\n",
       "      <td>0.0</td>\n",
       "      <td>...</td>\n",
       "      <td>0.0</td>\n",
       "      <td>6</td>\n",
       "      <td>0</td>\n",
       "      <td>13810.113</td>\n",
       "      <td>439.7070</td>\n",
       "      <td>725.4258</td>\n",
       "      <td>55.01562</td>\n",
       "      <td>63155.0</td>\n",
       "      <td>-0.299818</td>\n",
       "      <td>Outlier</td>\n",
       "    </tr>\n",
       "  </tbody>\n",
       "</table>\n",
       "<p>5 rows × 104 columns</p>\n",
       "</div>"
      ],
      "text/plain": [
       "                  time  app_cpu_netdata_x  app_cpu_apps.plugin_x  \\\n",
       "5041  17-08-2019 04:11             0.0000                 0.9993   \n",
       "5042  17-08-2019 04:13             0.9986                 0.9997   \n",
       "5043  17-08-2019 04:13             1.9980                 0.9991   \n",
       "5044  17-08-2019 04:14             0.0000                 1.0001   \n",
       "5045  17-08-2019 04:29             0.9989                 0.9991   \n",
       "\n",
       "      app_cpu_tc-qos-helper_x  app_cpu_go.d.plugin_x  app_cpu_logs_x  \\\n",
       "5041                   1.9986                    0.0             0.0   \n",
       "5042                   0.0000                    0.0             0.0   \n",
       "5043                   0.9991                    0.0             0.0   \n",
       "5044                   1.0001                    0.0             0.0   \n",
       "5045                   1.9982                    0.0             0.0   \n",
       "\n",
       "      app_cpu_ssh_x  app_cpu_time_x  app_cpu_cron_x  app_cpu_system_x  ...  \\\n",
       "5041         0.9993               0               0               0.0  ...   \n",
       "5042         0.9998               0               0               0.0  ...   \n",
       "5043         0.0001               0               0               0.0  ...   \n",
       "5044         0.0002               0               0               0.0  ...   \n",
       "5045         0.0001               0               0               0.0  ...   \n",
       "\n",
       "      pgio_out  running  blocked       free      used    cached   buffers  \\\n",
       "5041       0.0        3        0  13897.359  397.0898  681.0234  54.78906   \n",
       "5042       0.0        4        0  13962.949  331.4453  681.0586  54.80859   \n",
       "5043       0.0        6        0  13935.891  358.5195  681.0430  54.80859   \n",
       "5044       0.0        5        0  13641.918  652.4609  681.0547  54.82812   \n",
       "5045       0.0        6        0  13810.113  439.7070  725.4258  55.01562   \n",
       "\n",
       "       uptime  anomaly_score    label  \n",
       "5041  62084.0      -0.290622  Outlier  \n",
       "5042  62158.0      -0.290622  Outlier  \n",
       "5043  62161.0      -0.299818  Outlier  \n",
       "5044  62227.0      -0.309119  Outlier  \n",
       "5045  63155.0      -0.299818  Outlier  \n",
       "\n",
       "[5 rows x 104 columns]"
      ]
     },
     "execution_count": 111,
     "metadata": {},
     "output_type": "execute_result"
    }
   ],
   "source": [
    "data = pd.read_csv(r\"C:\\Users\\Aarushi Wagh\\Downloads\\code1\\codes\\isolation_forest_test_data.csv\")\n",
    "data.tail()"
   ]
  },
  {
   "cell_type": "code",
   "execution_count": 227,
   "id": "b7924fd8",
   "metadata": {},
   "outputs": [],
   "source": [
    "data['label'] = data['label'].replace(['Inlier', 'Outlier'],(0,1))\n",
    "data.head()\n",
    "X = data[[\"app_cpu_netdata_x\",\"app_cpu_apps.plugin_x\",\"app_cpu_tc-qos-helper_x\",\"app_cpu_ssh_x\",\"running\",\"free\",\"used\",\"cached\",\"buffers\"]].values\n",
    "y = data[['label']].values\n",
    "\n"
   ]
  },
  {
   "cell_type": "markdown",
   "id": "d7dace5b",
   "metadata": {},
   "source": [
    "### Splitting, oversampling and undersampling data"
   ]
  },
  {
   "cell_type": "code",
   "execution_count": 228,
   "id": "14241f6f",
   "metadata": {},
   "outputs": [
    {
     "name": "stdout",
     "output_type": "stream",
     "text": [
      "Counter({0: 3739, 1: 45})\n",
      "Counter({0: 3739, 1: 1869})\n",
      "Counter({0: 2336, 1: 1869})\n"
     ]
    }
   ],
   "source": [
    "X_train_dtrees, X_test_dtrees, y_train_dtrees, y_test_dtrees = train_test_split(X, y, test_size=0.25, stratify=y, random_state=0)\n",
    "oversample = RandomOverSampler(sampling_strategy=0.5)\n",
    "X_over, y_over = oversample.fit_resample(X_train_dtrees, y_train_dtrees)\n",
    "undersample = RandomUnderSampler(sampling_strategy=0.8)\n",
    "X_both, y_both = undersample.fit_resample(X_over, y_over)\n",
    "\n",
    "print(Counter(y_train_dtrees.ravel()))\n",
    "print(Counter(y_over))\n",
    "print(Counter(y_both))\n",
    "\n"
   ]
  },
  {
   "cell_type": "markdown",
   "id": "49d690dc",
   "metadata": {},
   "source": [
    "### Performing GridSearch to select best parameters for the model"
   ]
  },
  {
   "cell_type": "code",
   "execution_count": 199,
   "id": "b741c91e",
   "metadata": {},
   "outputs": [
    {
     "data": {
      "text/plain": [
       "{'criterion': 'gini', 'min_samples_split': 30}"
      ]
     },
     "execution_count": 199,
     "metadata": {},
     "output_type": "execute_result"
    }
   ],
   "source": [
    "clf = GridSearchCV(DecisionTreeClassifier(),{'criterion':['gini','entropy'],'min_samples_split':[10,20,30,40]})\n",
    "clf.fit(X_both, y_both)\n",
    "df = pd.DataFrame(clf.cv_results_)\n",
    "#print(df[['param_criterion','param_min_samples_split','mean_test_score']])\n",
    "clf.best_params_"
   ]
  },
  {
   "cell_type": "markdown",
   "id": "3e24c64d",
   "metadata": {},
   "source": [
    "### Training the model"
   ]
  },
  {
   "cell_type": "code",
   "execution_count": 229,
   "id": "db4ff8f7",
   "metadata": {},
   "outputs": [],
   "source": [
    "data_model_dtrees = DecisionTreeClassifier(criterion = 'gini', min_samples_split = 30)\n",
    "data_model_dtrees.fit(X_both, y_both)\n",
    "y_predicted_dtrees = data_model_dtrees.predict(X_test_dtrees)"
   ]
  },
  {
   "cell_type": "markdown",
   "id": "0ea9f204",
   "metadata": {},
   "source": [
    "### Performance metrics"
   ]
  },
  {
   "cell_type": "code",
   "execution_count": 230,
   "id": "b0bea82a",
   "metadata": {},
   "outputs": [
    {
     "name": "stdout",
     "output_type": "stream",
     "text": [
      "[0.9957204  0.99714693 0.99643112]\n",
      "0.9964328176701446\n"
     ]
    }
   ],
   "source": [
    "a = cross_val_score(data_model_dtrees, X_both, y_both, cv = 3, scoring = \"accuracy\")\n",
    "print(a)\n",
    "print(a.mean())"
   ]
  },
  {
   "cell_type": "code",
   "execution_count": 231,
   "id": "58aeb2f8",
   "metadata": {},
   "outputs": [
    {
     "name": "stdout",
     "output_type": "stream",
     "text": [
      "              precision    recall  f1-score   support\n",
      "\n",
      "           0       1.00      1.00      1.00      1247\n",
      "           1       0.91      0.67      0.77        15\n",
      "\n",
      "    accuracy                           1.00      1262\n",
      "   macro avg       0.95      0.83      0.88      1262\n",
      "weighted avg       0.99      1.00      0.99      1262\n",
      "\n",
      "[[1246    1]\n",
      " [   5   10]]\n",
      "0.9090909090909091\n",
      "0.6666666666666666\n",
      "0.7692307692307692\n"
     ]
    }
   ],
   "source": [
    "print(classification_report(y_test_dtrees, y_predicted_dtrees))\n",
    "print(confusion_matrix(y_test_dtrees, y_predicted_dtrees))\n",
    "print(precision_score(y_test_dtrees, y_predicted_dtrees))\n",
    "print(recall_score(y_test_dtrees, y_predicted_dtrees))\n",
    "print(f1_score(y_test_dtrees, y_predicted_dtrees))"
   ]
  },
  {
   "cell_type": "code",
   "execution_count": 45,
   "id": "131929da",
   "metadata": {},
   "outputs": [
    {
     "data": {
      "text/plain": [
       "(1262,)"
      ]
     },
     "execution_count": 45,
     "metadata": {},
     "output_type": "execute_result"
    }
   ],
   "source": [
    "y_predicted_dtrees.shape"
   ]
  },
  {
   "cell_type": "markdown",
   "id": "f2a2c245",
   "metadata": {},
   "source": [
    "### Visualizing the results of the model by plotting predicted values and actual values"
   ]
  },
  {
   "cell_type": "code",
   "execution_count": 9,
   "id": "4bf39069",
   "metadata": {},
   "outputs": [
    {
     "data": {
      "text/plain": [
       "<matplotlib.legend.Legend at 0x1fe7f142370>"
      ]
     },
     "execution_count": 9,
     "metadata": {},
     "output_type": "execute_result"
    },
    {
     "data": {
      "image/png": "[encoded data removed]",
      "text/plain": [
       "<Figure size 432x288 with 1 Axes>"
      ]
     },
     "metadata": {
      "needs_background": "light"
     },
     "output_type": "display_data"
    }
   ],
   "source": [
    "plt.scatter(X_test_dtrees[:,3], y_test_dtrees, color=\"blue\", label=\"actual values\")\n",
    "plt.scatter(X_test_dtrees[:,3], y_predicted_dtrees, color=\"green\", label=\"predicted values\")\n",
    "plt.legend()"
   ]
  },
  {
   "cell_type": "markdown",
   "id": "01c3b2bf",
   "metadata": {},
   "source": [
    "# Using Random forest classification technique"
   ]
  },
  {
   "cell_type": "markdown",
   "id": "1e48453e",
   "metadata": {},
   "source": [
    "### Splitting, oversampling and undersampling data"
   ]
  },
  {
   "cell_type": "code",
   "execution_count": 232,
   "id": "14f62e46",
   "metadata": {},
   "outputs": [
    {
     "name": "stdout",
     "output_type": "stream",
     "text": [
      "Counter({0: 3739, 1: 45})\n",
      "Counter({0: 3739, 1: 1869})\n",
      "Counter({0: 2336, 1: 1869})\n"
     ]
    }
   ],
   "source": [
    "X_train_rforest, X_test_rforest, y_train_rforest, y_test_rforest = train_test_split(X, y.ravel(), test_size = 0.25, random_state=0,stratify = y)\n",
    "oversample = RandomOverSampler(sampling_strategy=0.5)\n",
    "X_over_rf, y_over_rf = oversample.fit_resample(X_train_rforest, y_train_rforest)\n",
    "undersample = RandomUnderSampler(sampling_strategy=0.8)\n",
    "X_both_rf, y_both_rf = undersample.fit_resample(X_over_rf, y_over_rf)\n",
    "\n",
    "print(Counter(y_train_rforest.ravel()))\n",
    "print(Counter(y_over_rf))\n",
    "print(Counter(y_both_rf))\n"
   ]
  },
  {
   "cell_type": "markdown",
   "id": "536dcb54",
   "metadata": {},
   "source": [
    "### Performing GridSearch to select best parameters for the model"
   ]
  },
  {
   "cell_type": "code",
   "execution_count": 210,
   "id": "3a325f2c",
   "metadata": {},
   "outputs": [
    {
     "data": {
      "text/plain": [
       "{'criterion': 'gini', 'n_estimators': 10}"
      ]
     },
     "execution_count": 210,
     "metadata": {},
     "output_type": "execute_result"
    }
   ],
   "source": [
    "clf_rf = GridSearchCV(RandomForestClassifier(),{'criterion':['gini','entropy'],'n_estimators':[5,10,20,30,40]})\n",
    "clf_rf.fit(X_both, y_both.ravel())\n",
    "df = pd.DataFrame(clf_rf.cv_results_)\n",
    "#print(df[['param_criterion','param_n_estimators','mean_test_score']])\n",
    "clf_rf.best_params_"
   ]
  },
  {
   "cell_type": "markdown",
   "id": "72fcd4fc",
   "metadata": {},
   "source": [
    "### Training the model"
   ]
  },
  {
   "cell_type": "code",
   "execution_count": 233,
   "id": "0f0214d7",
   "metadata": {},
   "outputs": [],
   "source": [
    "data_model_rforest = RandomForestClassifier(criterion = 'entropy', n_estimators = 10)\n",
    "data_model_rforest.fit(X_both_rf, y_both_rf)\n",
    "y_predicted_rforest = data_model_rforest.predict(X_test_rforest)\n",
    "#print(\"mse= \", mean_squared_error(y_test_rforest, y_predicted_rforest))"
   ]
  },
  {
   "cell_type": "markdown",
   "id": "2291a6a2",
   "metadata": {},
   "source": [
    "### Performance metrics"
   ]
  },
  {
   "cell_type": "code",
   "execution_count": 234,
   "id": "7fabcc5f",
   "metadata": {},
   "outputs": [
    {
     "name": "stdout",
     "output_type": "stream",
     "text": [
      "[0.9978602 1.        1.       ]\n",
      "0.9992867332382311\n"
     ]
    }
   ],
   "source": [
    "b = cross_val_score(data_model_rforest, X_both_rf, y_both_rf, cv = 3, scoring = \"accuracy\")\n",
    "print(b)\n",
    "print(b.mean())"
   ]
  },
  {
   "cell_type": "code",
   "execution_count": 235,
   "id": "ccf1472e",
   "metadata": {},
   "outputs": [
    {
     "name": "stdout",
     "output_type": "stream",
     "text": [
      "              precision    recall  f1-score   support\n",
      "\n",
      "           0       1.00      1.00      1.00      1247\n",
      "           1       0.92      0.73      0.81        15\n",
      "\n",
      "    accuracy                           1.00      1262\n",
      "   macro avg       0.96      0.87      0.91      1262\n",
      "weighted avg       1.00      1.00      1.00      1262\n",
      "\n"
     ]
    }
   ],
   "source": [
    "print(classification_report(y_test_rforest, y_predicted_rforest))"
   ]
  },
  {
   "cell_type": "code",
   "execution_count": 236,
   "id": "1baf9a6b",
   "metadata": {},
   "outputs": [
    {
     "name": "stdout",
     "output_type": "stream",
     "text": [
      "[[1246    1]\n",
      " [   4   11]]\n",
      "0.9166666666666666\n",
      "0.7333333333333333\n",
      "0.8148148148148148\n"
     ]
    }
   ],
   "source": [
    "print(confusion_matrix(y_test_rforest, y_predicted_rforest))\n",
    "print(precision_score(y_test_rforest, y_predicted_rforest))\n",
    "print(recall_score(y_test_rforest, y_predicted_rforest))\n",
    "print(f1_score(y_test_rforest, y_predicted_rforest))"
   ]
  },
  {
   "cell_type": "markdown",
   "id": "bcc62195",
   "metadata": {},
   "source": [
    "### Visualizing the results of the model by plotting predicted values and actual values"
   ]
  },
  {
   "cell_type": "code",
   "execution_count": 237,
   "id": "2f6bdb3c",
   "metadata": {},
   "outputs": [
    {
     "data": {
      "text/plain": [
       "<matplotlib.legend.Legend at 0x1fe025b6af0>"
      ]
     },
     "execution_count": 237,
     "metadata": {},
     "output_type": "execute_result"
    },
    {
     "data": {
      "image/png": "[encoded data removed]",
      "text/plain": [
       "<Figure size 432x288 with 1 Axes>"
      ]
     },
     "metadata": {
      "needs_background": "light"
     },
     "output_type": "display_data"
    }
   ],
   "source": [
    "plt.scatter(X_test_rforest[:,3], y_test_rforest, color=\"blue\", label=\"actual values\")\n",
    "plt.scatter(X_test_rforest[:,3], y_predicted_rforest, color=\"grey\", label=\"predicted values\")\n",
    "plt.legend()"
   ]
  },
  {
   "cell_type": "code",
   "execution_count": null,
   "id": "5721ddac",
   "metadata": {},
   "outputs": [],
   "source": []
  }
 ],
 "metadata": {
  "kernelspec": {
   "display_name": "Python 3",
   "language": "python",
   "name": "python3"
  },
  "language_info": {
   "codemirror_mode": {
    "name": "ipython",
    "version": 3
   },
   "file_extension": ".py",
   "mimetype": "text/x-python",
   "name": "python",
   "nbconvert_exporter": "python",
   "pygments_lexer": "ipython3",
   "version": "3.9.5"
  },
  "vscode": {
   "interpreter": {
    "hash": "c4d2827e9c708f0ab663eedf91571615120c3304b5e84f4cd81fa09333715d17"
   }
  }
 },
 "nbformat": 4,
 "nbformat_minor": 5
}
