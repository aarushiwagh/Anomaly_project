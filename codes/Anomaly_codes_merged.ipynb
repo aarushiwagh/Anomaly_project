{
 "cells": [
  {
   "cell_type": "markdown",
   "id": "6b867fc3",
   "metadata": {},
   "source": [
    "# Using SVM Classifier "
   ]
  },
  {
   "cell_type": "markdown",
   "id": "32e7bbd0",
   "metadata": {},
   "source": [
    "### Importing libraries"
   ]
  },
  {
   "cell_type": "code",
   "execution_count": 1,
   "id": "8ff671fd",
   "metadata": {},
   "outputs": [],
   "source": [
    "import pandas as pd\n",
    "import numpy as np\n",
    "import matplotlib.pyplot as plt\n",
    "from sklearn.metrics import mean_squared_error,confusion_matrix, precision_score, recall_score, f1_score, classification_report\n",
    "from sklearn.model_selection import train_test_split, cross_val_score, GridSearchCV, RandomizedSearchCV\n",
    "from sklearn.svm import SVC\n",
    "from imblearn.over_sampling import RandomOverSampler\n",
    "from imblearn.under_sampling import RandomUnderSampler\n",
    "from collections import Counter"
   ]
  },
  {
   "cell_type": "markdown",
   "id": "c8848e0e",
   "metadata": {},
   "source": [
    "### Reading and cleaning data"
   ]
  },
  {
   "cell_type": "code",
   "execution_count": 112,
   "id": "5cac462e",
   "metadata": {},
   "outputs": [],
   "source": [
    "data = pd.read_csv(r\"C:\\Users\\Aarushi Wagh\\Downloads\\code1\\codes\\isolation_forest_test_data.csv\")\n",
    "data.head()\n",
    "\n",
    "data['label'] = data['label'].replace(['Inlier', 'Outlier'],(0,1))\n",
    "data.head()\n",
    "\n",
    "X = data[[\"app_cpu_apps.plugin_x\",\"app_cpu_tc-qos-helper_x\",\"app_cpu_ssh_x\",\"running\",\"used\",\"cached\",\"buffers\"]].values\n",
    "y = data['label'].values\n"
   ]
  },
  {
   "cell_type": "markdown",
   "id": "1b587ed5",
   "metadata": {},
   "source": [
    "### Visualizing the distribution of data"
   ]
  },
  {
   "cell_type": "code",
   "execution_count": 3,
   "id": "b7f50a15",
   "metadata": {},
   "outputs": [
    {
     "data": {
      "text/plain": [
       "<matplotlib.legend.Legend at 0x1c793445550>"
      ]
     },
     "execution_count": 3,
     "metadata": {},
     "output_type": "execute_result"
    },
    {
     "data": {
      "image/png": "[encoded data removed]",
      "text/plain": [
       "<Figure size 432x288 with 1 Axes>"
      ]
     },
     "metadata": {
      "needs_background": "light"
     },
     "output_type": "display_data"
    }
   ],
   "source": [
    "df0 = data[data.label==0]\n",
    "df1 = data[data.label==1]\n",
    "plt.scatter(df0[\"app_cpu_logs_x\"][:10],df0[\"app_cpu_tc-qos-helper_x\"][:10],color=\"green\",marker=\".\",label=\"Inlier\")\n",
    "plt.scatter(df1[\"app_cpu_logs_x\"][:10],df1[\"app_cpu_tc-qos-helper_x\"][:10],color=\"blue\",marker=\".\",label=\"Outlier\")\n",
    "plt.xlabel(\"app cpu logs\")\n",
    "plt.ylabel(\"used memory\")\n",
    "plt.legend()"
   ]
  },
  {
   "cell_type": "markdown",
   "id": "b9ea7475",
   "metadata": {},
   "source": [
    "### Splitting, oversampling and undersampling data"
   ]
  },
  {
   "cell_type": "code",
   "execution_count": 113,
   "id": "c6fbd5c2",
   "metadata": {},
   "outputs": [
    {
     "name": "stdout",
     "output_type": "stream",
     "text": [
      "Counter({0: 3988, 1: 48})\n",
      "Counter({0: 3988, 1: 1994})\n",
      "Counter({0: 2492, 1: 1994})\n"
     ]
    }
   ],
   "source": [
    "X_train_svc, X_test_svc, y_train_svc, y_test_svc = train_test_split(X, y, test_size = 0.20, stratify=y)\n",
    "oversample = RandomOverSampler(sampling_strategy=0.5)\n",
    "undersample = RandomUnderSampler(sampling_strategy=0.8)\n",
    "X_over, y_over = oversample.fit_resample(X_train_svc, y_train_svc)\n",
    "#X_under, y_under = undersample.fit_resample(X_train_svc, y_train_svc)\n",
    "X_both, y_both = undersample.fit_resample(X_over, y_over)\n",
    "print(Counter(y_train_svc))\n",
    "#print(Counter(y_under))\n",
    "print(Counter(y_over))\n",
    "print(Counter(y_both))"
   ]
  },
  {
   "cell_type": "markdown",
   "id": "7d22d35f",
   "metadata": {},
   "source": [
    "### Performing GridSearch to select best parameters for the model"
   ]
  },
  {
   "cell_type": "code",
   "execution_count": 107,
   "id": "67f9f73e",
   "metadata": {},
   "outputs": [],
   "source": [
    "clf = RandomizedSearchCV(SVC(),{'C':[1,10], 'kernel':['rbf','linear']}, cv=3)"
   ]
  },
  {
   "cell_type": "code",
   "execution_count": 108,
   "id": "61e72eae",
   "metadata": {
    "scrolled": true
   },
   "outputs": [
    {
     "name": "stderr",
     "output_type": "stream",
     "text": [
      "d:\\python\\lib\\site-packages\\sklearn\\model_selection\\_search.py:306: UserWarning: The total space of parameters 4 is smaller than n_iter=10. Running 4 iterations. For exhaustive searches, use GridSearchCV.\n",
      "  warnings.warn(\n"
     ]
    }
   ],
   "source": [
    "clf.fit(X_both,y_both.ravel())\n",
    "df = pd.DataFrame(clf.cv_results_)"
   ]
  },
  {
   "cell_type": "code",
   "execution_count": 109,
   "id": "c99ab488",
   "metadata": {},
   "outputs": [
    {
     "name": "stdout",
     "output_type": "stream",
     "text": [
      "  param_kernel param_C  mean_test_score\n",
      "0          rbf       1         0.847079\n",
      "1       linear       1         0.859113\n",
      "2          rbf      10         0.897236\n",
      "3       linear      10         0.858444\n",
      "{'kernel': 'rbf', 'C': 10}\n"
     ]
    }
   ],
   "source": [
    "print(df[['param_kernel','param_C','mean_test_score']])\n",
    "print(clf.best_params_)"
   ]
  },
  {
   "cell_type": "markdown",
   "id": "744e7e13",
   "metadata": {},
   "source": [
    "### Training the model"
   ]
  },
  {
   "cell_type": "code",
   "execution_count": 114,
   "id": "ca8b8f59",
   "metadata": {},
   "outputs": [
    {
     "name": "stdout",
     "output_type": "stream",
     "text": [
      "0.996039603960396\n"
     ]
    }
   ],
   "source": [
    "data_model_svc = SVC(kernel=\"rbf\",C=10)\n",
    "data_model_svc.fit(X_both, y_both.ravel())\n",
    "y_predicted_svc = data_model_svc.predict(X_test_svc)\n",
    "print(data_model_svc.score(X_test_svc,y_test_svc))"
   ]
  },
  {
   "cell_type": "markdown",
   "id": "2a011c55",
   "metadata": {},
   "source": [
    "### Performance metrics"
   ]
  },
  {
   "cell_type": "code",
   "execution_count": 115,
   "id": "f237d49a",
   "metadata": {},
   "outputs": [
    {
     "name": "stdout",
     "output_type": "stream",
     "text": [
      "              precision    recall  f1-score   support\n",
      "\n",
      "           0       1.00      1.00      1.00       998\n",
      "           1       0.90      0.75      0.82        12\n",
      "\n",
      "    accuracy                           1.00      1010\n",
      "   macro avg       0.95      0.87      0.91      1010\n",
      "weighted avg       1.00      1.00      1.00      1010\n",
      "\n"
     ]
    }
   ],
   "source": [
    "report = classification_report(y_test_svc, y_predicted_svc)\n",
    "print(report)"
   ]
  },
  {
   "cell_type": "code",
   "execution_count": 116,
   "id": "4ec99d84",
   "metadata": {},
   "outputs": [
    {
     "name": "stdout",
     "output_type": "stream",
     "text": [
      "[[997   1]\n",
      " [  3   9]]\n",
      "0.9\n",
      "0.75\n",
      "0.8181818181818182\n"
     ]
    }
   ],
   "source": [
    "print(confusion_matrix(y_test_svc, y_predicted_svc))\n",
    "print(precision_score(y_test_svc, y_predicted_svc))\n",
    "print(recall_score(y_test_svc, y_predicted_svc))\n",
    "print(f1_score(y_test_svc, y_predicted_svc))"
   ]
  },
  {
   "cell_type": "markdown",
   "id": "2d477acf",
   "metadata": {},
   "source": [
    "### Visualizing the results of the model by plotting predicted values and actual values"
   ]
  },
  {
   "cell_type": "code",
   "execution_count": 82,
   "id": "9d322001",
   "metadata": {},
   "outputs": [
    {
     "data": {
      "text/plain": [
       "<matplotlib.legend.Legend at 0x1c796bcafd0>"
      ]
     },
     "execution_count": 82,
     "metadata": {},
     "output_type": "execute_result"
    },
    {
     "data": {
      "image/png": "[encoded data removed]",
      "text/plain": [
       "<Figure size 432x288 with 1 Axes>"
      ]
     },
     "metadata": {
      "needs_background": "light"
     },
     "output_type": "display_data"
    }
   ],
   "source": [
    "plt.scatter(X_test_svc[:,2], y_test_svc, color=\"blue\", label=\"actual values\")\n",
    "plt.scatter(X_test_svc[:,2], y_predicted_svc, color=\"grey\", label=\"predicted values\")\n",
    "plt.legend()"
   ]
  },
  {
   "cell_type": "code",
   "execution_count": null,
   "id": "82a39d28",
   "metadata": {},
   "outputs": [],
   "source": []
  },
  {
   "cell_type": "code",
   "execution_count": null,
   "id": "75f3d3e0",
   "metadata": {},
   "outputs": [],
   "source": []
  },
  {
   "cell_type": "markdown",
   "id": "a305addd",
   "metadata": {},
   "source": [
    "# Using Naive Bayes Classifier"
   ]
  },
  {
   "cell_type": "markdown",
   "id": "4649abc2",
   "metadata": {},
   "source": [
    "### Importing libraries"
   ]
  },
  {
   "cell_type": "code",
   "execution_count": 1,
   "id": "3cdbfa99",
   "metadata": {},
   "outputs": [],
   "source": [
    "import pandas as pd\n",
    "import numpy as np\n",
    "import matplotlib.pyplot as plt\n",
    "from sklearn.metrics import mean_squared_error,confusion_matrix, precision_score, recall_score, f1_score, classification_report\n",
    "from sklearn.model_selection import train_test_split, cross_val_score, GridSearchCV\n",
    "from sklearn.naive_bayes import GaussianNB\n",
    "from imblearn.over_sampling import RandomOverSampler\n",
    "from imblearn.under_sampling import RandomUnderSampler\n",
    "from collections import Counter"
   ]
  },
  {
   "cell_type": "markdown",
   "id": "bd7adf69",
   "metadata": {},
   "source": [
    "### Reading and cleaning data"
   ]
  },
  {
   "cell_type": "code",
   "execution_count": 2,
   "id": "a19b4408",
   "metadata": {},
   "outputs": [],
   "source": [
    "data = pd.read_csv(r\"C:\\Users\\Aarushi Wagh\\Downloads\\code1\\codes\\isolation_forest_test_data.csv\")\n",
    "data.head()\n",
    "\n",
    "data['label'] = data['label'].replace(['Inlier', 'Outlier'],(0,1))\n",
    "data.head()\n",
    "\n",
    "X = data[[\"app_cpu_apps.plugin_x\",\"app_cpu_tc-qos-helper_x\",\"app_cpu_ssh_x\",\"running\",\"free\",\"used\",\"cached\",\"buffers\"]].values\n",
    "y = data['label'].values"
   ]
  },
  {
   "cell_type": "markdown",
   "id": "b8543e8a",
   "metadata": {},
   "source": [
    "### Splitting, oversampling and undersampling data"
   ]
  },
  {
   "cell_type": "code",
   "execution_count": 3,
   "id": "09fca8fa",
   "metadata": {},
   "outputs": [
    {
     "name": "stdout",
     "output_type": "stream",
     "text": [
      "Counter({0: 3739, 1: 45})\n",
      "Counter({0: 3739, 1: 1869})\n",
      "Counter({0: 2336, 1: 1869})\n"
     ]
    }
   ],
   "source": [
    "X_train_gnb, X_test_gnb, y_train_gnb, y_test_gnb = train_test_split(X, y,test_size = 0.25, stratify=y)\n",
    "oversample = RandomOverSampler(sampling_strategy=0.5)\n",
    "X_over, y_over = oversample.fit_resample(X_train_gnb, y_train_gnb)\n",
    "undersample = RandomUnderSampler(sampling_strategy=0.8)\n",
    "X_both, y_both = undersample.fit_resample(X_over, y_over)\n",
    "\n",
    "print(Counter(y_train_gnb))\n",
    "print(Counter(y_over))\n",
    "print(Counter(y_both))"
   ]
  },
  {
   "cell_type": "markdown",
   "id": "80705d8c",
   "metadata": {},
   "source": [
    "### Performing GridSearch to select best parameters for the model"
   ]
  },
  {
   "cell_type": "code",
   "execution_count": 15,
   "id": "31edd211",
   "metadata": {},
   "outputs": [
    {
     "name": "stdout",
     "output_type": "stream",
     "text": [
      "Fitting 5 folds for each of 100 candidates, totalling 500 fits\n"
     ]
    },
    {
     "data": {
      "text/plain": [
       "{'var_smoothing': 1.519911082952933e-07}"
      ]
     },
     "execution_count": 15,
     "metadata": {},
     "output_type": "execute_result"
    }
   ],
   "source": [
    "params_NB = {'var_smoothing': np.logspace(0,-9, num=100)}\n",
    "clf = GridSearchCV(estimator=GaussianNB(), \n",
    "                 param_grid=params_NB, \n",
    "                 cv=5,   # use any cross validation technique \n",
    "                 verbose=1, \n",
    "                 scoring='accuracy')\n",
    "clf.fit(X_both,y_both)\n",
    "clf.best_params_"
   ]
  },
  {
   "cell_type": "markdown",
   "id": "d43cac96",
   "metadata": {},
   "source": [
    "### Training the model"
   ]
  },
  {
   "cell_type": "code",
   "execution_count": 14,
   "id": "fb7d1e2f",
   "metadata": {},
   "outputs": [],
   "source": [
    "data_model_gnb = GaussianNB(var_smoothing = 8.111308307896872e-07)\n",
    "data_model_gnb.fit(X_both, y_both.ravel())\n",
    "y_predicted_gnb = data_model_gnb.predict(X_test_gnb)"
   ]
  },
  {
   "cell_type": "markdown",
   "id": "633a67bb",
   "metadata": {},
   "source": [
    "### Performance metrics"
   ]
  },
  {
   "cell_type": "code",
   "execution_count": 16,
   "id": "6a9a8188",
   "metadata": {},
   "outputs": [
    {
     "name": "stdout",
     "output_type": "stream",
     "text": [
      "[0.91686461 0.89073634 0.90498812 0.9239905  0.9216152  0.8952381\n",
      " 0.92142857 0.91904762 0.89047619 0.92142857]\n",
      "0.910581382196584\n"
     ]
    }
   ],
   "source": [
    "a = cross_val_score(data_model_gnb, X_both, y_both.ravel(), cv = 10, scoring = \"accuracy\")\n",
    "print(a)\n",
    "print(a.mean())"
   ]
  },
  {
   "cell_type": "code",
   "execution_count": 17,
   "id": "7f26142c",
   "metadata": {},
   "outputs": [
    {
     "name": "stdout",
     "output_type": "stream",
     "text": [
      "              precision    recall  f1-score   support\n",
      "\n",
      "           0       1.00      1.00      1.00      1247\n",
      "           1       0.85      0.73      0.79        15\n",
      "\n",
      "    accuracy                           1.00      1262\n",
      "   macro avg       0.92      0.87      0.89      1262\n",
      "weighted avg       1.00      1.00      1.00      1262\n",
      "\n"
     ]
    }
   ],
   "source": [
    "print(classification_report(y_test_gnb, y_predicted_gnb))"
   ]
  },
  {
   "cell_type": "code",
   "execution_count": 18,
   "id": "44e0d7d1",
   "metadata": {},
   "outputs": [
    {
     "name": "stdout",
     "output_type": "stream",
     "text": [
      "[[1245    2]\n",
      " [   4   11]]\n",
      "0.8461538461538461\n",
      "0.7333333333333333\n",
      "0.7857142857142856\n"
     ]
    }
   ],
   "source": [
    "print(confusion_matrix(y_test_gnb, y_predicted_gnb))\n",
    "print(precision_score(y_test_gnb, y_predicted_gnb))\n",
    "print(recall_score(y_test_gnb, y_predicted_gnb))\n",
    "print(f1_score(y_test_gnb, y_predicted_gnb))"
   ]
  },
  {
   "cell_type": "markdown",
   "id": "60ce40a4",
   "metadata": {},
   "source": [
    "### Visualizing the results of the model by plotting predicted values and actual values"
   ]
  },
  {
   "cell_type": "code",
   "execution_count": 19,
   "id": "ba0a1796",
   "metadata": {},
   "outputs": [
    {
     "data": {
      "text/plain": [
       "<matplotlib.legend.Legend at 0x133d5affd30>"
      ]
     },
     "execution_count": 19,
     "metadata": {},
     "output_type": "execute_result"
    },
    {
     "data": {
      "image/png": "[encoded data removed]",
      "text/plain": [
       "<Figure size 432x288 with 1 Axes>"
      ]
     },
     "metadata": {
      "needs_background": "light"
     },
     "output_type": "display_data"
    }
   ],
   "source": [
    "plt.scatter(X_test_gnb[:,2], y_test_gnb, color=\"blue\", label=\"actual values\")\n",
    "plt.scatter(X_test_gnb[:,2], y_predicted_gnb, color=\"grey\", label=\"predicted values\")\n",
    "plt.legend()"
   ]
  },
  {
   "cell_type": "code",
   "execution_count": null,
   "id": "6a74f2cd",
   "metadata": {},
   "outputs": [],
   "source": []
  },
  {
   "cell_type": "code",
   "execution_count": null,
   "id": "a036e36a",
   "metadata": {},
   "outputs": [],
   "source": []
  },
  {
   "cell_type": "markdown",
   "id": "3224ff1f",
   "metadata": {},
   "source": [
    "# Using Decision tree classification technique"
   ]
  },
  {
   "cell_type": "markdown",
   "id": "3e10e2c0",
   "metadata": {},
   "source": [
    "### Importing libraries"
   ]
  },
  {
   "cell_type": "code",
   "execution_count": 79,
   "id": "3ebc2d13",
   "metadata": {},
   "outputs": [],
   "source": [
    "import pandas as pd\n",
    "import numpy as nm\n",
    "import matplotlib.pyplot as plt\n",
    "from sklearn.tree import DecisionTreeClassifier\n",
    "from sklearn.ensemble import RandomForestClassifier\n",
    "from sklearn import datasets, linear_model\n",
    "from sklearn.metrics import mean_squared_error, confusion_matrix, precision_score, recall_score, f1_score, classification_report\n",
    "from sklearn.model_selection import train_test_split, cross_val_score, GridSearchCV\n",
    "from imblearn.over_sampling import RandomOverSampler\n",
    "from imblearn.under_sampling import RandomUnderSampler\n",
    "from collections import Counter"
   ]
  },
  {
   "cell_type": "markdown",
   "id": "34885263",
   "metadata": {},
   "source": [
    "### Reading and cleaning data"
   ]
  },
  {
   "cell_type": "code",
   "execution_count": 111,
   "id": "7cb03310",
   "metadata": {},
   "outputs": [
    {
     "data": {
      "text/html": [
       "<div>\n",
       "<style scoped>\n",
       "    .dataframe tbody tr th:only-of-type {\n",
       "        vertical-align: middle;\n",
       "    }\n",
       "\n",
       "    .dataframe tbody tr th {\n",
       "        vertical-align: top;\n",
       "    }\n",
       "\n",
       "    .dataframe thead th {\n",
       "        text-align: right;\n",
       "    }\n",
       "</style>\n",
       "<table border=\"1\" class=\"dataframe\">\n",
       "  <thead>\n",
       "    <tr style=\"text-align: right;\">\n",
       "      <th></th>\n",
       "      <th>time</th>\n",
       "      <th>app_cpu_netdata_x</th>\n",
       "      <th>app_cpu_apps.plugin_x</th>\n",
       "      <th>app_cpu_tc-qos-helper_x</th>\n",
       "      <th>app_cpu_go.d.plugin_x</th>\n",
       "      <th>app_cpu_logs_x</th>\n",
       "      <th>app_cpu_ssh_x</th>\n",
       "      <th>app_cpu_time_x</th>\n",
       "      <th>app_cpu_cron_x</th>\n",
       "      <th>app_cpu_system_x</th>\n",
       "      <th>...</th>\n",
       "      <th>pgio_out</th>\n",
       "      <th>running</th>\n",
       "      <th>blocked</th>\n",
       "      <th>free</th>\n",
       "      <th>used</th>\n",
       "      <th>cached</th>\n",
       "      <th>buffers</th>\n",
       "      <th>uptime</th>\n",
       "      <th>anomaly_score</th>\n",
       "      <th>label</th>\n",
       "    </tr>\n",
       "  </thead>\n",
       "  <tbody>\n",
       "    <tr>\n",
       "      <th>5041</th>\n",
       "      <td>17-08-2019 04:11</td>\n",
       "      <td>0.0000</td>\n",
       "      <td>0.9993</td>\n",
       "      <td>1.9986</td>\n",
       "      <td>0.0</td>\n",
       "      <td>0.0</td>\n",
       "      <td>0.9993</td>\n",
       "      <td>0</td>\n",
       "      <td>0</td>\n",
       "      <td>0.0</td>\n",
       "      <td>...</td>\n",
       "      <td>0.0</td>\n",
       "      <td>3</td>\n",
       "      <td>0</td>\n",
       "      <td>13897.359</td>\n",
       "      <td>397.0898</td>\n",
       "      <td>681.0234</td>\n",
       "      <td>54.78906</td>\n",
       "      <td>62084.0</td>\n",
       "      <td>-0.290622</td>\n",
       "      <td>Outlier</td>\n",
       "    </tr>\n",
       "    <tr>\n",
       "      <th>5042</th>\n",
       "      <td>17-08-2019 04:13</td>\n",
       "      <td>0.9986</td>\n",
       "      <td>0.9997</td>\n",
       "      <td>0.0000</td>\n",
       "      <td>0.0</td>\n",
       "      <td>0.0</td>\n",
       "      <td>0.9998</td>\n",
       "      <td>0</td>\n",
       "      <td>0</td>\n",
       "      <td>0.0</td>\n",
       "      <td>...</td>\n",
       "      <td>0.0</td>\n",
       "      <td>4</td>\n",
       "      <td>0</td>\n",
       "      <td>13962.949</td>\n",
       "      <td>331.4453</td>\n",
       "      <td>681.0586</td>\n",
       "      <td>54.80859</td>\n",
       "      <td>62158.0</td>\n",
       "      <td>-0.290622</td>\n",
       "      <td>Outlier</td>\n",
       "    </tr>\n",
       "    <tr>\n",
       "      <th>5043</th>\n",
       "      <td>17-08-2019 04:13</td>\n",
       "      <td>1.9980</td>\n",
       "      <td>0.9991</td>\n",
       "      <td>0.9991</td>\n",
       "      <td>0.0</td>\n",
       "      <td>0.0</td>\n",
       "      <td>0.0001</td>\n",
       "      <td>0</td>\n",
       "      <td>0</td>\n",
       "      <td>0.0</td>\n",
       "      <td>...</td>\n",
       "      <td>0.0</td>\n",
       "      <td>6</td>\n",
       "      <td>0</td>\n",
       "      <td>13935.891</td>\n",
       "      <td>358.5195</td>\n",
       "      <td>681.0430</td>\n",
       "      <td>54.80859</td>\n",
       "      <td>62161.0</td>\n",
       "      <td>-0.299818</td>\n",
       "      <td>Outlier</td>\n",
       "    </tr>\n",
       "    <tr>\n",
       "      <th>5044</th>\n",
       "      <td>17-08-2019 04:14</td>\n",
       "      <td>0.0000</td>\n",
       "      <td>1.0001</td>\n",
       "      <td>1.0001</td>\n",
       "      <td>0.0</td>\n",
       "      <td>0.0</td>\n",
       "      <td>0.0002</td>\n",
       "      <td>0</td>\n",
       "      <td>0</td>\n",
       "      <td>0.0</td>\n",
       "      <td>...</td>\n",
       "      <td>0.0</td>\n",
       "      <td>5</td>\n",
       "      <td>0</td>\n",
       "      <td>13641.918</td>\n",
       "      <td>652.4609</td>\n",
       "      <td>681.0547</td>\n",
       "      <td>54.82812</td>\n",
       "      <td>62227.0</td>\n",
       "      <td>-0.309119</td>\n",
       "      <td>Outlier</td>\n",
       "    </tr>\n",
       "    <tr>\n",
       "      <th>5045</th>\n",
       "      <td>17-08-2019 04:29</td>\n",
       "      <td>0.9989</td>\n",
       "      <td>0.9991</td>\n",
       "      <td>1.9982</td>\n",
       "      <td>0.0</td>\n",
       "      <td>0.0</td>\n",
       "      <td>0.0001</td>\n",
       "      <td>0</td>\n",
       "      <td>0</td>\n",
       "      <td>0.0</td>\n",
       "      <td>...</td>\n",
       "      <td>0.0</td>\n",
       "      <td>6</td>\n",
       "      <td>0</td>\n",
       "      <td>13810.113</td>\n",
       "      <td>439.7070</td>\n",
       "      <td>725.4258</td>\n",
       "      <td>55.01562</td>\n",
       "      <td>63155.0</td>\n",
       "      <td>-0.299818</td>\n",
       "      <td>Outlier</td>\n",
       "    </tr>\n",
       "  </tbody>\n",
       "</table>\n",
       "<p>5 rows × 104 columns</p>\n",
       "</div>"
      ],
      "text/plain": [
       "                  time  app_cpu_netdata_x  app_cpu_apps.plugin_x  \\\n",
       "5041  17-08-2019 04:11             0.0000                 0.9993   \n",
       "5042  17-08-2019 04:13             0.9986                 0.9997   \n",
       "5043  17-08-2019 04:13             1.9980                 0.9991   \n",
       "5044  17-08-2019 04:14             0.0000                 1.0001   \n",
       "5045  17-08-2019 04:29             0.9989                 0.9991   \n",
       "\n",
       "      app_cpu_tc-qos-helper_x  app_cpu_go.d.plugin_x  app_cpu_logs_x  \\\n",
       "5041                   1.9986                    0.0             0.0   \n",
       "5042                   0.0000                    0.0             0.0   \n",
       "5043                   0.9991                    0.0             0.0   \n",
       "5044                   1.0001                    0.0             0.0   \n",
       "5045                   1.9982                    0.0             0.0   \n",
       "\n",
       "      app_cpu_ssh_x  app_cpu_time_x  app_cpu_cron_x  app_cpu_system_x  ...  \\\n",
       "5041         0.9993               0               0               0.0  ...   \n",
       "5042         0.9998               0               0               0.0  ...   \n",
       "5043         0.0001               0               0               0.0  ...   \n",
       "5044         0.0002               0               0               0.0  ...   \n",
       "5045         0.0001               0               0               0.0  ...   \n",
       "\n",
       "      pgio_out  running  blocked       free      used    cached   buffers  \\\n",
       "5041       0.0        3        0  13897.359  397.0898  681.0234  54.78906   \n",
       "5042       0.0        4        0  13962.949  331.4453  681.0586  54.80859   \n",
       "5043       0.0        6        0  13935.891  358.5195  681.0430  54.80859   \n",
       "5044       0.0        5        0  13641.918  652.4609  681.0547  54.82812   \n",
       "5045       0.0        6        0  13810.113  439.7070  725.4258  55.01562   \n",
       "\n",
       "       uptime  anomaly_score    label  \n",
       "5041  62084.0      -0.290622  Outlier  \n",
       "5042  62158.0      -0.290622  Outlier  \n",
       "5043  62161.0      -0.299818  Outlier  \n",
       "5044  62227.0      -0.309119  Outlier  \n",
       "5045  63155.0      -0.299818  Outlier  \n",
       "\n",
       "[5 rows x 104 columns]"
      ]
     },
     "execution_count": 111,
     "metadata": {},
     "output_type": "execute_result"
    }
   ],
   "source": [
    "data = pd.read_csv(r\"C:\\Users\\Aarushi Wagh\\Downloads\\code1\\codes\\isolation_forest_test_data.csv\")\n",
    "data.tail()"
   ]
  },
  {
   "cell_type": "code",
   "execution_count": 227,
   "id": "b7924fd8",
   "metadata": {},
   "outputs": [],
   "source": [
    "data['label'] = data['label'].replace(['Inlier', 'Outlier'],(0,1))\n",
    "data.head()\n",
    "X = data[[\"app_cpu_netdata_x\",\"app_cpu_apps.plugin_x\",\"app_cpu_tc-qos-helper_x\",\"app_cpu_ssh_x\",\"running\",\"free\",\"used\",\"cached\",\"buffers\"]].values\n",
    "y = data[['label']].values\n",
    "\n"
   ]
  },
  {
   "cell_type": "markdown",
   "id": "d7dace5b",
   "metadata": {},
   "source": [
    "### Splitting, oversampling and undersampling data"
   ]
  },
  {
   "cell_type": "code",
   "execution_count": 228,
   "id": "14241f6f",
   "metadata": {},
   "outputs": [
    {
     "name": "stdout",
     "output_type": "stream",
     "text": [
      "Counter({0: 3739, 1: 45})\n",
      "Counter({0: 3739, 1: 1869})\n",
      "Counter({0: 2336, 1: 1869})\n"
     ]
    }
   ],
   "source": [
    "X_train_dtrees, X_test_dtrees, y_train_dtrees, y_test_dtrees = train_test_split(X, y, test_size=0.25, stratify=y, random_state=0)\n",
    "oversample = RandomOverSampler(sampling_strategy=0.5)\n",
    "X_over, y_over = oversample.fit_resample(X_train_dtrees, y_train_dtrees)\n",
    "undersample = RandomUnderSampler(sampling_strategy=0.8)\n",
    "X_both, y_both = undersample.fit_resample(X_over, y_over)\n",
    "\n",
    "print(Counter(y_train_dtrees.ravel()))\n",
    "print(Counter(y_over))\n",
    "print(Counter(y_both))\n",
    "\n"
   ]
  },
  {
   "cell_type": "markdown",
   "id": "49d690dc",
   "metadata": {},
   "source": [
    "### Performing GridSearch to select best parameters for the model"
   ]
  },
  {
   "cell_type": "code",
   "execution_count": 199,
   "id": "b741c91e",
   "metadata": {},
   "outputs": [
    {
     "data": {
      "text/plain": [
       "{'criterion': 'gini', 'min_samples_split': 30}"
      ]
     },
     "execution_count": 199,
     "metadata": {},
     "output_type": "execute_result"
    }
   ],
   "source": [
    "clf = GridSearchCV(DecisionTreeClassifier(),{'criterion':['gini','entropy'],'min_samples_split':[10,20,30,40]})\n",
    "clf.fit(X_both, y_both)\n",
    "df = pd.DataFrame(clf.cv_results_)\n",
    "#print(df[['param_criterion','param_min_samples_split','mean_test_score']])\n",
    "clf.best_params_"
   ]
  },
  {
   "cell_type": "markdown",
   "id": "3e24c64d",
   "metadata": {},
   "source": [
    "### Training the model"
   ]
  },
  {
   "cell_type": "code",
   "execution_count": 229,
   "id": "db4ff8f7",
   "metadata": {},
   "outputs": [],
   "source": [
    "data_model_dtrees = DecisionTreeClassifier(criterion = 'gini', min_samples_split = 30)\n",
    "data_model_dtrees.fit(X_both, y_both)\n",
    "y_predicted_dtrees = data_model_dtrees.predict(X_test_dtrees)"
   ]
  },
  {
   "cell_type": "markdown",
   "id": "0ea9f204",
   "metadata": {},
   "source": [
    "### Performance metrics"
   ]
  },
  {
   "cell_type": "code",
   "execution_count": 230,
   "id": "b0bea82a",
   "metadata": {},
   "outputs": [
    {
     "name": "stdout",
     "output_type": "stream",
     "text": [
      "[0.9957204  0.99714693 0.99643112]\n",
      "0.9964328176701446\n"
     ]
    }
   ],
   "source": [
    "a = cross_val_score(data_model_dtrees, X_both, y_both, cv = 3, scoring = \"accuracy\")\n",
    "print(a)\n",
    "print(a.mean())"
   ]
  },
  {
   "cell_type": "code",
   "execution_count": 231,
   "id": "58aeb2f8",
   "metadata": {},
   "outputs": [
    {
     "name": "stdout",
     "output_type": "stream",
     "text": [
      "              precision    recall  f1-score   support\n",
      "\n",
      "           0       1.00      1.00      1.00      1247\n",
      "           1       0.91      0.67      0.77        15\n",
      "\n",
      "    accuracy                           1.00      1262\n",
      "   macro avg       0.95      0.83      0.88      1262\n",
      "weighted avg       0.99      1.00      0.99      1262\n",
      "\n",
      "[[1246    1]\n",
      " [   5   10]]\n",
      "0.9090909090909091\n",
      "0.6666666666666666\n",
      "0.7692307692307692\n"
     ]
    }
   ],
   "source": [
    "print(classification_report(y_test_dtrees, y_predicted_dtrees))\n",
    "print(confusion_matrix(y_test_dtrees, y_predicted_dtrees))\n",
    "print(precision_score(y_test_dtrees, y_predicted_dtrees))\n",
    "print(recall_score(y_test_dtrees, y_predicted_dtrees))\n",
    "print(f1_score(y_test_dtrees, y_predicted_dtrees))"
   ]
  },
  {
   "cell_type": "code",
   "execution_count": 45,
   "id": "131929da",
   "metadata": {},
   "outputs": [
    {
     "data": {
      "text/plain": [
       "(1262,)"
      ]
     },
     "execution_count": 45,
     "metadata": {},
     "output_type": "execute_result"
    }
   ],
   "source": [
    "y_predicted_dtrees.shape"
   ]
  },
  {
   "cell_type": "markdown",
   "id": "f2a2c245",
   "metadata": {},
   "source": [
    "### Visualizing the results of the model by plotting predicted values and actual values"
   ]
  },
  {
   "cell_type": "code",
   "execution_count": 9,
   "id": "4bf39069",
   "metadata": {},
   "outputs": [
    {
     "data": {
      "text/plain": [
       "<matplotlib.legend.Legend at 0x1fe7f142370>"
      ]
     },
     "execution_count": 9,
     "metadata": {},
     "output_type": "execute_result"
    },
    {
     "data": {
      "image/png": "[encoded data removed]",
      "text/plain": [
       "<Figure size 432x288 with 1 Axes>"
      ]
     },
     "metadata": {
      "needs_background": "light"
     },
     "output_type": "display_data"
    }
   ],
   "source": [
    "plt.scatter(X_test_dtrees[:,3], y_test_dtrees, color=\"blue\", label=\"actual values\")\n",
    "plt.scatter(X_test_dtrees[:,3], y_predicted_dtrees, color=\"green\", label=\"predicted values\")\n",
    "plt.legend()"
   ]
  },
  {
   "cell_type": "markdown",
   "id": "01c3b2bf",
   "metadata": {},
   "source": [
    "# Using Random forest classification technique"
   ]
  },
  {
   "cell_type": "markdown",
   "id": "1e48453e",
   "metadata": {},
   "source": [
    "### Splitting, oversampling and undersampling data"
   ]
  },
  {
   "cell_type": "code",
   "execution_count": 232,
   "id": "14f62e46",
   "metadata": {},
   "outputs": [
    {
     "name": "stdout",
     "output_type": "stream",
     "text": [
      "Counter({0: 3739, 1: 45})\n",
      "Counter({0: 3739, 1: 1869})\n",
      "Counter({0: 2336, 1: 1869})\n"
     ]
    }
   ],
   "source": [
    "X_train_rforest, X_test_rforest, y_train_rforest, y_test_rforest = train_test_split(X, y.ravel(), test_size = 0.25, random_state=0,stratify = y)\n",
    "oversample = RandomOverSampler(sampling_strategy=0.5)\n",
    "X_over_rf, y_over_rf = oversample.fit_resample(X_train_rforest, y_train_rforest)\n",
    "undersample = RandomUnderSampler(sampling_strategy=0.8)\n",
    "X_both_rf, y_both_rf = undersample.fit_resample(X_over_rf, y_over_rf)\n",
    "\n",
    "print(Counter(y_train_rforest.ravel()))\n",
    "print(Counter(y_over_rf))\n",
    "print(Counter(y_both_rf))\n"
   ]
  },
  {
   "cell_type": "markdown",
   "id": "536dcb54",
   "metadata": {},
   "source": [
    "### Performing GridSearch to select best parameters for the model"
   ]
  },
  {
   "cell_type": "code",
   "execution_count": 210,
   "id": "3a325f2c",
   "metadata": {},
   "outputs": [
    {
     "data": {
      "text/plain": [
       "{'criterion': 'gini', 'n_estimators': 10}"
      ]
     },
     "execution_count": 210,
     "metadata": {},
     "output_type": "execute_result"
    }
   ],
   "source": [
    "clf_rf = GridSearchCV(RandomForestClassifier(),{'criterion':['gini','entropy'],'n_estimators':[5,10,20,30,40]})\n",
    "clf_rf.fit(X_both, y_both.ravel())\n",
    "df = pd.DataFrame(clf_rf.cv_results_)\n",
    "#print(df[['param_criterion','param_n_estimators','mean_test_score']])\n",
    "clf_rf.best_params_"
   ]
  },
  {
   "cell_type": "markdown",
   "id": "72fcd4fc",
   "metadata": {},
   "source": [
    "### Training the model"
   ]
  },
  {
   "cell_type": "code",
   "execution_count": 233,
   "id": "0f0214d7",
   "metadata": {},
   "outputs": [],
   "source": [
    "data_model_rforest = RandomForestClassifier(criterion = 'entropy', n_estimators = 10)\n",
    "data_model_rforest.fit(X_both_rf, y_both_rf)\n",
    "y_predicted_rforest = data_model_rforest.predict(X_test_rforest)\n",
    "#print(\"mse= \", mean_squared_error(y_test_rforest, y_predicted_rforest))"
   ]
  },
  {
   "cell_type": "markdown",
   "id": "2291a6a2",
   "metadata": {},
   "source": [
    "### Performance metrics"
   ]
  },
  {
   "cell_type": "code",
   "execution_count": 234,
   "id": "7fabcc5f",
   "metadata": {},
   "outputs": [
    {
     "name": "stdout",
     "output_type": "stream",
     "text": [
      "[0.9978602 1.        1.       ]\n",
      "0.9992867332382311\n"
     ]
    }
   ],
   "source": [
    "b = cross_val_score(data_model_rforest, X_both_rf, y_both_rf, cv = 3, scoring = \"accuracy\")\n",
    "print(b)\n",
    "print(b.mean())"
   ]
  },
  {
   "cell_type": "code",
   "execution_count": 235,
   "id": "ccf1472e",
   "metadata": {},
   "outputs": [
    {
     "name": "stdout",
     "output_type": "stream",
     "text": [
      "              precision    recall  f1-score   support\n",
      "\n",
      "           0       1.00      1.00      1.00      1247\n",
      "           1       0.92      0.73      0.81        15\n",
      "\n",
      "    accuracy                           1.00      1262\n",
      "   macro avg       0.96      0.87      0.91      1262\n",
      "weighted avg       1.00      1.00      1.00      1262\n",
      "\n"
     ]
    }
   ],
   "source": [
    "print(classification_report(y_test_rforest, y_predicted_rforest))"
   ]
  },
  {
   "cell_type": "code",
   "execution_count": 236,
   "id": "1baf9a6b",
   "metadata": {},
   "outputs": [
    {
     "name": "stdout",
     "output_type": "stream",
     "text": [
      "[[1246    1]\n",
      " [   4   11]]\n",
      "0.9166666666666666\n",
      "0.7333333333333333\n",
      "0.8148148148148148\n"
     ]
    }
   ],
   "source": [
    "print(confusion_matrix(y_test_rforest, y_predicted_rforest))\n",
    "print(precision_score(y_test_rforest, y_predicted_rforest))\n",
    "print(recall_score(y_test_rforest, y_predicted_rforest))\n",
    "print(f1_score(y_test_rforest, y_predicted_rforest))"
   ]
  },
  {
   "cell_type": "markdown",
   "id": "bcc62195",
   "metadata": {},
   "source": [
    "### Visualizing the results of the model by plotting predicted values and actual values"
   ]
  },
  {
   "cell_type": "code",
   "execution_count": 237,
   "id": "2f6bdb3c",
   "metadata": {},
   "outputs": [
    {
     "data": {
      "text/plain": [
       "<matplotlib.legend.Legend at 0x1fe025b6af0>"
      ]
     },
     "execution_count": 237,
     "metadata": {},
     "output_type": "execute_result"
    },
    {
     "data": {
      "image/png": "[encoded data removed]",
      "text/plain": [
       "<Figure size 432x288 with 1 Axes>"
      ]
     },
     "metadata": {
      "needs_background": "light"
     },
     "output_type": "display_data"
    }
   ],
   "source": [
    "plt.scatter(X_test_rforest[:,3], y_test_rforest, color=\"blue\", label=\"actual values\")\n",
    "plt.scatter(X_test_rforest[:,3], y_predicted_rforest, color=\"grey\", label=\"predicted values\")\n",
    "plt.legend()"
   ]
  },
  {
   "cell_type": "code",
   "execution_count": null,
   "id": "5721ddac",
   "metadata": {},
   "outputs": [],
   "source": []
  },
  {
   "cell_type": "markdown",
   "id": "c3b30383",
   "metadata": {},
   "source": [
    "# Using Multi-Layer Perceptron Classifier "
   ]
  },
  {
   "cell_type": "markdown",
   "id": "400f5fa9",
   "metadata": {},
   "source": [
    "### Importing libraries"
   ]
  },
  {
   "cell_type": "code",
   "execution_count": 3,
   "id": "8c81accc",
   "metadata": {},
   "outputs": [],
   "source": [
    "import pandas as pd\n",
    "import numpy as np\n",
    "import matplotlib.pyplot as plt\n",
    "from sklearn.metrics import mean_squared_error,confusion_matrix, precision_score, recall_score, f1_score, classification_report\n",
    "from sklearn.model_selection import train_test_split, cross_val_score, GridSearchCV, RandomizedSearchCV\n",
    "from sklearn.neural_network import MLPClassifier\n",
    "from imblearn.over_sampling import RandomOverSampler\n",
    "from imblearn.under_sampling import RandomUnderSampler\n",
    "from collections import Counter"
   ]
  },
  {
   "cell_type": "markdown",
   "id": "a1878f0e",
   "metadata": {},
   "source": [
    "### Reading and cleaning data"
   ]
  },
  {
   "cell_type": "code",
   "execution_count": 4,
   "id": "ab8e60d7",
   "metadata": {},
   "outputs": [],
   "source": [
    "data = pd.read_csv(r\"C:\\Users\\Aarushi Wagh\\Downloads\\code1\\codes\\isolation_forest_test_data.csv\")\n",
    "data.head()\n",
    "\n",
    "data['label'] = data['label'].replace(['Inlier', 'Outlier'],(0,1))\n",
    "data.head()\n",
    "\n",
    "X = data[[\"app_cpu_apps.plugin_x\",\"app_cpu_tc-qos-helper_x\",\"app_cpu_ssh_x\",\"running\",\"used\",\"cached\",\"buffers\"]].values\n",
    "y = data['label'].values"
   ]
  },
  {
   "cell_type": "markdown",
   "id": "b64f3009",
   "metadata": {},
   "source": [
    "### Splitting, oversampling and undersampling data"
   ]
  },
  {
   "cell_type": "code",
   "execution_count": 5,
   "id": "95cf8747",
   "metadata": {},
   "outputs": [
    {
     "name": "stdout",
     "output_type": "stream",
     "text": [
      "Counter({0: 3988, 1: 48})\n",
      "Counter({0: 3988, 1: 1994})\n",
      "Counter({0: 2492, 1: 1994})\n"
     ]
    }
   ],
   "source": [
    "X_train, X_test, y_train, y_test = train_test_split(X, y, test_size = 0.20, stratify=y, random_state=1)\n",
    "oversample = RandomOverSampler(sampling_strategy=0.5)\n",
    "undersample = RandomUnderSampler(sampling_strategy=0.8)\n",
    "X_over, y_over = oversample.fit_resample(X_train, y_train)\n",
    "#X_under, y_under = undersample.fit_resample(X_train_svc, y_train_svc)\n",
    "X_both, y_both = undersample.fit_resample(X_over, y_over)\n",
    "print(Counter(y_train))\n",
    "#print(Counter(y_under))\n",
    "print(Counter(y_over))\n",
    "print(Counter(y_both))"
   ]
  },
  {
   "cell_type": "markdown",
   "id": "28b69853",
   "metadata": {},
   "source": [
    "### Performing GridSearch to select best parameters for the model"
   ]
  },
  {
   "cell_type": "code",
   "execution_count": 7,
   "id": "30c02f30",
   "metadata": {},
   "outputs": [
    {
     "data": {
      "text/html": [
       "<style>#sk-container-id-1 {color: black;background-color: white;}#sk-container-id-1 pre{padding: 0;}#sk-container-id-1 div.sk-toggleable {background-color: white;}#sk-container-id-1 label.sk-toggleable__label {cursor: pointer;display: block;width: 100%;margin-bottom: 0;padding: 0.3em;box-sizing: border-box;text-align: center;}#sk-container-id-1 label.sk-toggleable__label-arrow:before {content: \"▸\";float: left;margin-right: 0.25em;color: #696969;}#sk-container-id-1 label.sk-toggleable__label-arrow:hover:before {color: black;}#sk-container-id-1 div.sk-estimator:hover label.sk-toggleable__label-arrow:before {color: black;}#sk-container-id-1 div.sk-toggleable__content {max-height: 0;max-width: 0;overflow: hidden;text-align: left;background-color: #f0f8ff;}#sk-container-id-1 div.sk-toggleable__content pre {margin: 0.2em;color: black;border-radius: 0.25em;background-color: #f0f8ff;}#sk-container-id-1 input.sk-toggleable__control:checked~div.sk-toggleable__content {max-height: 200px;max-width: 100%;overflow: auto;}#sk-container-id-1 input.sk-toggleable__control:checked~label.sk-toggleable__label-arrow:before {content: \"▾\";}#sk-container-id-1 div.sk-estimator input.sk-toggleable__control:checked~label.sk-toggleable__label {background-color: #d4ebff;}#sk-container-id-1 div.sk-label input.sk-toggleable__control:checked~label.sk-toggleable__label {background-color: #d4ebff;}#sk-container-id-1 input.sk-hidden--visually {border: 0;clip: rect(1px 1px 1px 1px);clip: rect(1px, 1px, 1px, 1px);height: 1px;margin: -1px;overflow: hidden;padding: 0;position: absolute;width: 1px;}#sk-container-id-1 div.sk-estimator {font-family: monospace;background-color: #f0f8ff;border: 1px dotted black;border-radius: 0.25em;box-sizing: border-box;margin-bottom: 0.5em;}#sk-container-id-1 div.sk-estimator:hover {background-color: #d4ebff;}#sk-container-id-1 div.sk-parallel-item::after {content: \"\";width: 100%;border-bottom: 1px solid gray;flex-grow: 1;}#sk-container-id-1 div.sk-label:hover label.sk-toggleable__label {background-color: #d4ebff;}#sk-container-id-1 div.sk-serial::before {content: \"\";position: absolute;border-left: 1px solid gray;box-sizing: border-box;top: 0;bottom: 0;left: 50%;z-index: 0;}#sk-container-id-1 div.sk-serial {display: flex;flex-direction: column;align-items: center;background-color: white;padding-right: 0.2em;padding-left: 0.2em;position: relative;}#sk-container-id-1 div.sk-item {position: relative;z-index: 1;}#sk-container-id-1 div.sk-parallel {display: flex;align-items: stretch;justify-content: center;background-color: white;position: relative;}#sk-container-id-1 div.sk-item::before, #sk-container-id-1 div.sk-parallel-item::before {content: \"\";position: absolute;border-left: 1px solid gray;box-sizing: border-box;top: 0;bottom: 0;left: 50%;z-index: -1;}#sk-container-id-1 div.sk-parallel-item {display: flex;flex-direction: column;z-index: 1;position: relative;background-color: white;}#sk-container-id-1 div.sk-parallel-item:first-child::after {align-self: flex-end;width: 50%;}#sk-container-id-1 div.sk-parallel-item:last-child::after {align-self: flex-start;width: 50%;}#sk-container-id-1 div.sk-parallel-item:only-child::after {width: 0;}#sk-container-id-1 div.sk-dashed-wrapped {border: 1px dashed gray;margin: 0 0.4em 0.5em 0.4em;box-sizing: border-box;padding-bottom: 0.4em;background-color: white;}#sk-container-id-1 div.sk-label label {font-family: monospace;font-weight: bold;display: inline-block;line-height: 1.2em;}#sk-container-id-1 div.sk-label-container {text-align: center;}#sk-container-id-1 div.sk-container {/* jupyter's `normalize.less` sets `[hidden] { display: none; }` but bootstrap.min.css set `[hidden] { display: none !important; }` so we also need the `!important` here to be able to override the default hidden behavior on the sphinx rendered scikit-learn.org. See: https://github.com/scikit-learn/scikit-learn/issues/21755 */display: inline-block !important;position: relative;}#sk-container-id-1 div.sk-text-repr-fallback {display: none;}</style><div id=\"sk-container-id-1\" class=\"sk-top-container\"><div class=\"sk-text-repr-fallback\"><pre>GridSearchCV(cv=3,\n",
       "             estimator=MLPClassifier(activation=&#x27;tanh&#x27;,\n",
       "                                     hidden_layer_sizes=(50, 50, 50),\n",
       "                                     max_iter=100),\n",
       "             n_jobs=-1,\n",
       "             param_grid={&#x27;activation&#x27;: [&#x27;tanh&#x27;, &#x27;relu&#x27;],\n",
       "                         &#x27;alpha&#x27;: [0.0001, 0.05],\n",
       "                         &#x27;hidden_layer_sizes&#x27;: [(50, 50, 50), (50, 100, 50),\n",
       "                                                (100,)],\n",
       "                         &#x27;learning_rate&#x27;: [&#x27;constant&#x27;, &#x27;adaptive&#x27;],\n",
       "                         &#x27;solver&#x27;: [&#x27;sgd&#x27;, &#x27;adam&#x27;]})</pre><b>In a Jupyter environment, please rerun this cell to show the HTML representation or trust the notebook. <br />On GitHub, the HTML representation is unable to render, please try loading this page with nbviewer.org.</b></div><div class=\"sk-container\" hidden><div class=\"sk-item sk-dashed-wrapped\"><div class=\"sk-label-container\"><div class=\"sk-label sk-toggleable\"><input class=\"sk-toggleable__control sk-hidden--visually\" id=\"sk-estimator-id-1\" type=\"checkbox\" ><label for=\"sk-estimator-id-1\" class=\"sk-toggleable__label sk-toggleable__label-arrow\">GridSearchCV</label><div class=\"sk-toggleable__content\"><pre>GridSearchCV(cv=3,\n",
       "             estimator=MLPClassifier(activation=&#x27;tanh&#x27;,\n",
       "                                     hidden_layer_sizes=(50, 50, 50),\n",
       "                                     max_iter=100),\n",
       "             n_jobs=-1,\n",
       "             param_grid={&#x27;activation&#x27;: [&#x27;tanh&#x27;, &#x27;relu&#x27;],\n",
       "                         &#x27;alpha&#x27;: [0.0001, 0.05],\n",
       "                         &#x27;hidden_layer_sizes&#x27;: [(50, 50, 50), (50, 100, 50),\n",
       "                                                (100,)],\n",
       "                         &#x27;learning_rate&#x27;: [&#x27;constant&#x27;, &#x27;adaptive&#x27;],\n",
       "                         &#x27;solver&#x27;: [&#x27;sgd&#x27;, &#x27;adam&#x27;]})</pre></div></div></div><div class=\"sk-parallel\"><div class=\"sk-parallel-item\"><div class=\"sk-item\"><div class=\"sk-label-container\"><div class=\"sk-label sk-toggleable\"><input class=\"sk-toggleable__control sk-hidden--visually\" id=\"sk-estimator-id-2\" type=\"checkbox\" ><label for=\"sk-estimator-id-2\" class=\"sk-toggleable__label sk-toggleable__label-arrow\">estimator: MLPClassifier</label><div class=\"sk-toggleable__content\"><pre>MLPClassifier(activation=&#x27;tanh&#x27;, hidden_layer_sizes=(50, 50, 50), max_iter=100)</pre></div></div></div><div class=\"sk-serial\"><div class=\"sk-item\"><div class=\"sk-estimator sk-toggleable\"><input class=\"sk-toggleable__control sk-hidden--visually\" id=\"sk-estimator-id-3\" type=\"checkbox\" ><label for=\"sk-estimator-id-3\" class=\"sk-toggleable__label sk-toggleable__label-arrow\">MLPClassifier</label><div class=\"sk-toggleable__content\"><pre>MLPClassifier(activation=&#x27;tanh&#x27;, hidden_layer_sizes=(50, 50, 50), max_iter=100)</pre></div></div></div></div></div></div></div></div></div></div>"
      ],
      "text/plain": [
       "GridSearchCV(cv=3,\n",
       "             estimator=MLPClassifier(activation='tanh',\n",
       "                                     hidden_layer_sizes=(50, 50, 50),\n",
       "                                     max_iter=100),\n",
       "             n_jobs=-1,\n",
       "             param_grid={'activation': ['tanh', 'relu'],\n",
       "                         'alpha': [0.0001, 0.05],\n",
       "                         'hidden_layer_sizes': [(50, 50, 50), (50, 100, 50),\n",
       "                                                (100,)],\n",
       "                         'learning_rate': ['constant', 'adaptive'],\n",
       "                         'solver': ['sgd', 'adam']})"
      ]
     },
     "execution_count": 7,
     "metadata": {},
     "output_type": "execute_result"
    }
   ],
   "source": [
    "parameter_space = {\n",
    "    'hidden_layer_sizes': [(50,50,50), (50,100,50), (100,)],\n",
    "    'activation': ['tanh', 'relu'],\n",
    "    'solver': ['sgd', 'adam'],\n",
    "    'alpha': [0.0001, 0.05],\n",
    "    'learning_rate': ['constant','adaptive'],\n",
    "}\n",
    "from sklearn.model_selection import GridSearchCV\n",
    "\n",
    "clf = GridSearchCV(mlp_clf, parameter_space, n_jobs=-1, cv=3)\n",
    "clf.fit(X_train, y_train)"
   ]
  },
  {
   "cell_type": "code",
   "execution_count": 8,
   "id": "f22fcc95",
   "metadata": {},
   "outputs": [
    {
     "name": "stdout",
     "output_type": "stream",
     "text": [
      "{'activation': 'relu', 'alpha': 0.0001, 'hidden_layer_sizes': (50, 100, 50), 'learning_rate': 'constant', 'solver': 'adam'}\n"
     ]
    }
   ],
   "source": [
    "print(clf.best_params_)"
   ]
  },
  {
   "cell_type": "markdown",
   "id": "8b3b17c3",
   "metadata": {},
   "source": [
    "### Training the model"
   ]
  },
  {
   "cell_type": "code",
   "execution_count": 11,
   "id": "d5902208",
   "metadata": {},
   "outputs": [
    {
     "name": "stdout",
     "output_type": "stream",
     "text": [
      "0.996039603960396\n"
     ]
    }
   ],
   "source": [
    "mlp_clf = MLPClassifier(max_iter=100, activation='relu', alpha=0.0001, hidden_layer_sizes=(50,100,50), learning_rate='constant', solver='adam')\n",
    "mlp_clf.fit(X_both, y_both)\n",
    "y_predicted = mlp_clf.predict(X_test)\n",
    "print(mlp_clf.score(X_test,y_test))"
   ]
  },
  {
   "cell_type": "markdown",
   "id": "2b83560e",
   "metadata": {},
   "source": [
    "### Performance metrics"
   ]
  },
  {
   "cell_type": "code",
   "execution_count": 12,
   "id": "e1e67136",
   "metadata": {},
   "outputs": [
    {
     "name": "stdout",
     "output_type": "stream",
     "text": [
      "              precision    recall  f1-score   support\n",
      "\n",
      "           0       1.00      1.00      1.00       998\n",
      "           1       0.90      0.75      0.82        12\n",
      "\n",
      "    accuracy                           1.00      1010\n",
      "   macro avg       0.95      0.87      0.91      1010\n",
      "weighted avg       1.00      1.00      1.00      1010\n",
      "\n"
     ]
    }
   ],
   "source": [
    "report = classification_report(y_test, y_predicted)\n",
    "print(report)"
   ]
  },
  {
   "cell_type": "code",
   "execution_count": 13,
   "id": "13e1a80a",
   "metadata": {},
   "outputs": [
    {
     "name": "stdout",
     "output_type": "stream",
     "text": [
      "[[997   1]\n",
      " [  3   9]]\n",
      "0.9\n",
      "0.75\n",
      "0.8181818181818182\n"
     ]
    }
   ],
   "source": [
    "print(confusion_matrix(y_test, y_predicted))\n",
    "print(precision_score(y_test, y_predicted))\n",
    "print(recall_score(y_test, y_predicted))\n",
    "print(f1_score(y_test, y_predicted))"
   ]
  },
  {
   "cell_type": "code",
   "execution_count": null,
   "id": "37de2cdd",
   "metadata": {},
   "outputs": [],
   "source": []
  },
  {
   "cell_type": "markdown",
   "id": "97303122",
   "metadata": {},
   "source": [
    "# Visualizing performance of various models and performing weighted average method as an ensemble of all our models"
   ]
  },
  {
   "cell_type": "code",
   "execution_count": 2,
   "id": "0bba7037",
   "metadata": {},
   "outputs": [],
   "source": [
    "import matplotlib\n",
    "import matplotlib.pyplot as plt\n",
    "import numpy as np"
   ]
  },
  {
   "cell_type": "code",
   "execution_count": 4,
   "id": "949aa2d6",
   "metadata": {},
   "outputs": [
    {
     "data": {
      "text/plain": [
       "<matplotlib.legend.Legend at 0x1c0d5bfac40>"
      ]
     },
     "execution_count": 4,
     "metadata": {},
     "output_type": "execute_result"
    },
    {
     "data": {
      "image/png": "[encoded data removed]",
      "text/plain": [
       "<Figure size 2160x3600 with 1 Axes>"
      ]
     },
     "metadata": {
      "needs_background": "light"
     },
     "output_type": "display_data"
    }
   ],
   "source": [
    "barWidth = 0.15\n",
    "fig = plt.subplots(figsize =(30, 50))\n",
    "\n",
    "def text(x,y):\n",
    "    for i in range(len(y)):\n",
    "        plt.text(x[i],y[i]*1.01,y[i], ha = 'center')\n",
    "        \n",
    "Decision_tree = [0.9964,0.909,0.667,0.769]\n",
    "Random_forest = [0.9992,0.916,0.733,0.814]\n",
    "Naive_bayes = [0.9105,0.846,0.733,0.785]\n",
    "SVM = [0.9960,0.9,0.75,0.81]\n",
    "ANN = [0.9960,0.9,0.75,0.81]\n",
    "\n",
    "algo_output = [[0.9964,0.909,0.667,0.769],\n",
    "               [0.9992,0.916,0.733,0.814],\n",
    "               #[0.9105,0.846,0.733,0.785],\n",
    "               #[0.9960,0.9,0.75,0.81],\n",
    "               [0.9960,0.9,0.75,0.81],\n",
    "               [0.9732,0.92,0.84,0.878]]#xgboost\n",
    "\n",
    "weighted_avg = []\n",
    "for i in range(4):\n",
    "    sum=0\n",
    "    for j in range(4):\n",
    "        sum += algo_output[j][i]\n",
    "    aver = 0\n",
    "    for k in range(4):\n",
    "        aver += (algo_output[k][i]**2)/sum\n",
    "    weighted_avg.append(aver)\n",
    "#print(weighted_avg)\n",
    "\n",
    "\n",
    "br1 = np.arange(len(Decision_tree))\n",
    "br2 = [x + barWidth for x in br1]\n",
    "br3 = [x + barWidth for x in br2]\n",
    "br4 = [x + barWidth for x in br3]\n",
    "br5 = [x + barWidth for x in br4]\n",
    "\n",
    "br6 = [x + barWidth for x in br5]\n",
    "\n",
    "plt.bar(br1, Decision_tree, color ='#003f5c', width = barWidth, label ='Decision Tree')\n",
    "text(br1,Decision_tree)\n",
    "\n",
    "plt.bar(br2, Random_forest, color ='#58508d', width = barWidth, label ='Random Forest')\n",
    "text(br2,Random_forest)\n",
    "\n",
    "plt.bar(br3, Naive_bayes, color ='#bc5090', width = barWidth, label ='Naive Bayes')\n",
    "text(br3,Naive_bayes)\n",
    "\n",
    "plt.bar(br4, SVM, color ='#ff6361', width = barWidth, label ='SVM')\n",
    "text(br4,SVM)\n",
    "\n",
    "plt.bar(br5, ANN, color ='#ffa600', width = barWidth, label ='ANN')\n",
    "text(br5,ANN)\n",
    "\n",
    "plt.bar(br6, weighted_avg, color ='red', width = barWidth, label ='Weighted Avg')\n",
    "text(br6,weighted_avg)\n",
    "\n",
    "plt.xticks([r + barWidth for r in range(len(Decision_tree))],\n",
    "        ['Accuracy', 'Precision', 'Recall', 'F1 Score'])\n",
    "\n",
    "plt.title(\"Comparing performance metrics of multiple algorithms\")\n",
    "plt.legend()"
   ]
  },
  {
   "cell_type": "code",
   "execution_count": 4,
   "id": "f0c29025",
   "metadata": {},
   "outputs": [
    {
     "data": {
      "text/plain": [
       "<matplotlib.legend.Legend at 0x2aa3607f970>"
      ]
     },
     "execution_count": 4,
     "metadata": {},
     "output_type": "execute_result"
    },
    {
     "data": {
      "image/png": "[encoded data removed]",
      "text/plain": [
       "<Figure size 1440x1080 with 1 Axes>"
      ]
     },
     "metadata": {
      "needs_background": "light"
     },
     "output_type": "display_data"
    }
   ],
   "source": [
    "barWidth = 0.17\n",
    "fig = plt.subplots(figsize =(20, 15))\n",
    "\n",
    "def text(x,y):\n",
    "    for i in range(len(y)):\n",
    "        plt.text(x[i],y[i]*1.01,y[i], ha = 'center')\n",
    "        \n",
    "Accuracy = [0.9964,0.9992,0.9105,0.9960,0.9960]\n",
    "Precision = [0.909,0.916,0.846,0.9,0.9]\n",
    "Recall = [0.667,0.733,0.733,0.75,0.75]\n",
    "F1_Score = [0.769,0.814,0.785,0.81,0.81]\n",
    "\n",
    "br1 = np.arange(len(Accuracy))\n",
    "br2 = [x + barWidth for x in br1]\n",
    "br3 = [x + barWidth for x in br2]\n",
    "br4 = [x + barWidth for x in br3]\n",
    "\n",
    "\n",
    "plt.bar(br1, Accuracy, color ='#E0BBE4', width = barWidth, label ='Accuracy')\n",
    "text(br1,Accuracy)\n",
    "\n",
    "plt.bar(br2, Precision, color ='#957DAD', width = barWidth, label ='Precision')\n",
    "text(br2,Precision)\n",
    "\n",
    "plt.bar(br3, Recall, color ='#D291BC', width = barWidth, label ='Recall')\n",
    "text(br3,Recall)\n",
    "\n",
    "plt.bar(br4, F1_Score, color ='#FEC8D8', width = barWidth, label ='F1 Score')\n",
    "text(br4,F1_Score)\n",
    "\n",
    "\n",
    "plt.xticks([r + barWidth for r in range(len(F1_Score))],\n",
    "        ['Decision Tree', 'Random Forest', \"Naive Bayes\", 'SVM', 'ANN'])\n",
    "\n",
    "plt.title(\"Comparing performance metrics of multiple algorithms\")\n",
    "plt.legend()"
   ]
  }
 ],
 "metadata": {
  "kernelspec": {
   "display_name": "Python 3",
   "language": "python",
   "name": "python3"
  },
  "language_info": {
   "codemirror_mode": {
    "name": "ipython",
    "version": 3
   },
   "file_extension": ".py",
   "mimetype": "text/x-python",
   "name": "python",
   "nbconvert_exporter": "python",
   "pygments_lexer": "ipython3",
   "version": "3.9.5"
  },
  "vscode": {
   "interpreter": {
    "hash": "c4d2827e9c708f0ab663eedf91571615120c3304b5e84f4cd81fa09333715d17"
   }
  }
 },
 "nbformat": 4,
 "nbformat_minor": 5
}
