{
 "cells": [
  {
   "cell_type": "markdown",
   "id": "a305addd",
   "metadata": {},
   "source": [
    "# Using Naive Bayes Classifier"
   ]
  },
  {
   "cell_type": "markdown",
   "id": "4649abc2",
   "metadata": {},
   "source": [
    "### Importing libraries"
   ]
  },
  {
   "cell_type": "code",
   "execution_count": 1,
   "id": "3cdbfa99",
   "metadata": {},
   "outputs": [],
   "source": [
    "import pandas as pd\n",
    "import numpy as np\n",
    "import matplotlib.pyplot as plt\n",
    "from sklearn.metrics import mean_squared_error,confusion_matrix, precision_score, recall_score, f1_score, classification_report\n",
    "from sklearn.model_selection import train_test_split, cross_val_score, GridSearchCV\n",
    "from sklearn.naive_bayes import GaussianNB\n",
    "from imblearn.over_sampling import RandomOverSampler\n",
    "from imblearn.under_sampling import RandomUnderSampler\n",
    "from collections import Counter"
   ]
  },
  {
   "cell_type": "markdown",
   "id": "bd7adf69",
   "metadata": {},
   "source": [
    "### Reading and cleaning data"
   ]
  },
  {
   "cell_type": "code",
   "execution_count": 2,
   "id": "a19b4408",
   "metadata": {},
   "outputs": [],
   "source": [
    "data = pd.read_csv(r\"C:\\Users\\Aarushi Wagh\\Downloads\\code1\\codes\\isolation_forest_test_data.csv\")\n",
    "data.head()\n",
    "\n",
    "data['label'] = data['label'].replace(['Inlier', 'Outlier'],(0,1))\n",
    "data.head()\n",
    "\n",
    "X = data[[\"app_cpu_apps.plugin_x\",\"app_cpu_tc-qos-helper_x\",\"app_cpu_ssh_x\",\"running\",\"free\",\"used\",\"cached\",\"buffers\"]].values\n",
    "y = data['label'].values"
   ]
  },
  {
   "cell_type": "markdown",
   "id": "b8543e8a",
   "metadata": {},
   "source": [
    "### Splitting, oversampling and undersampling data"
   ]
  },
  {
   "cell_type": "code",
   "execution_count": 3,
   "id": "09fca8fa",
   "metadata": {},
   "outputs": [
    {
     "name": "stdout",
     "output_type": "stream",
     "text": [
      "Counter({0: 3739, 1: 45})\n",
      "Counter({0: 3739, 1: 1869})\n",
      "Counter({0: 2336, 1: 1869})\n"
     ]
    }
   ],
   "source": [
    "X_train_gnb, X_test_gnb, y_train_gnb, y_test_gnb = train_test_split(X, y,test_size = 0.25, stratify=y)\n",
    "oversample = RandomOverSampler(sampling_strategy=0.5)\n",
    "X_over, y_over = oversample.fit_resample(X_train_gnb, y_train_gnb)\n",
    "undersample = RandomUnderSampler(sampling_strategy=0.8)\n",
    "X_both, y_both = undersample.fit_resample(X_over, y_over)\n",
    "\n",
    "print(Counter(y_train_gnb))\n",
    "print(Counter(y_over))\n",
    "print(Counter(y_both))"
   ]
  },
  {
   "cell_type": "markdown",
   "id": "80705d8c",
   "metadata": {},
   "source": [
    "### Performing GridSearch to select best parameters for the model"
   ]
  },
  {
   "cell_type": "code",
   "execution_count": 15,
   "id": "31edd211",
   "metadata": {},
   "outputs": [
    {
     "name": "stdout",
     "output_type": "stream",
     "text": [
      "Fitting 5 folds for each of 100 candidates, totalling 500 fits\n"
     ]
    },
    {
     "data": {
      "text/plain": [
       "{'var_smoothing': 1.519911082952933e-07}"
      ]
     },
     "execution_count": 15,
     "metadata": {},
     "output_type": "execute_result"
    }
   ],
   "source": [
    "params_NB = {'var_smoothing': np.logspace(0,-9, num=100)}\n",
    "clf = GridSearchCV(estimator=GaussianNB(), \n",
    "                 param_grid=params_NB, \n",
    "                 cv=5,   # use any cross validation technique \n",
    "                 verbose=1, \n",
    "                 scoring='accuracy')\n",
    "clf.fit(X_both,y_both)\n",
    "clf.best_params_"
   ]
  },
  {
   "cell_type": "markdown",
   "id": "d43cac96",
   "metadata": {},
   "source": [
    "### Training the model"
   ]
  },
  {
   "cell_type": "code",
   "execution_count": 14,
   "id": "fb7d1e2f",
   "metadata": {},
   "outputs": [],
   "source": [
    "data_model_gnb = GaussianNB(var_smoothing = 8.111308307896872e-07)\n",
    "data_model_gnb.fit(X_both, y_both.ravel())\n",
    "y_predicted_gnb = data_model_gnb.predict(X_test_gnb)"
   ]
  },
  {
   "cell_type": "markdown",
   "id": "633a67bb",
   "metadata": {},
   "source": [
    "### Performance metrics"
   ]
  },
  {
   "cell_type": "code",
   "execution_count": 16,
   "id": "6a9a8188",
   "metadata": {},
   "outputs": [
    {
     "name": "stdout",
     "output_type": "stream",
     "text": [
      "[0.91686461 0.89073634 0.90498812 0.9239905  0.9216152  0.8952381\n",
      " 0.92142857 0.91904762 0.89047619 0.92142857]\n",
      "0.910581382196584\n"
     ]
    }
   ],
   "source": [
    "a = cross_val_score(data_model_gnb, X_both, y_both.ravel(), cv = 10, scoring = \"accuracy\")\n",
    "print(a)\n",
    "print(a.mean())"
   ]
  },
  {
   "cell_type": "code",
   "execution_count": 17,
   "id": "7f26142c",
   "metadata": {},
   "outputs": [
    {
     "name": "stdout",
     "output_type": "stream",
     "text": [
      "              precision    recall  f1-score   support\n",
      "\n",
      "           0       1.00      1.00      1.00      1247\n",
      "           1       0.85      0.73      0.79        15\n",
      "\n",
      "    accuracy                           1.00      1262\n",
      "   macro avg       0.92      0.87      0.89      1262\n",
      "weighted avg       1.00      1.00      1.00      1262\n",
      "\n"
     ]
    }
   ],
   "source": [
    "print(classification_report(y_test_gnb, y_predicted_gnb))"
   ]
  },
  {
   "cell_type": "code",
   "execution_count": 18,
   "id": "44e0d7d1",
   "metadata": {},
   "outputs": [
    {
     "name": "stdout",
     "output_type": "stream",
     "text": [
      "[[1245    2]\n",
      " [   4   11]]\n",
      "0.8461538461538461\n",
      "0.7333333333333333\n",
      "0.7857142857142856\n"
     ]
    }
   ],
   "source": [
    "print(confusion_matrix(y_test_gnb, y_predicted_gnb))\n",
    "print(precision_score(y_test_gnb, y_predicted_gnb))\n",
    "print(recall_score(y_test_gnb, y_predicted_gnb))\n",
    "print(f1_score(y_test_gnb, y_predicted_gnb))"
   ]
  },
  {
   "cell_type": "markdown",
   "id": "60ce40a4",
   "metadata": {},
   "source": [
    "### Visualizing the results of the model by plotting predicted values and actual values"
   ]
  },
  {
   "cell_type": "code",
   "execution_count": 19,
   "id": "ba0a1796",
   "metadata": {},
   "outputs": [
    {
     "data": {
      "text/plain": [
       "<matplotlib.legend.Legend at 0x133d5affd30>"
      ]
     },
     "execution_count": 19,
     "metadata": {},
     "output_type": "execute_result"
    },
    {
     "data": {
      "image/png": "[encoded data removed]",
      "text/plain": [
       "<Figure size 432x288 with 1 Axes>"
      ]
     },
     "metadata": {
      "needs_background": "light"
     },
     "output_type": "display_data"
    }
   ],
   "source": [
    "plt.scatter(X_test_gnb[:,2], y_test_gnb, color=\"blue\", label=\"actual values\")\n",
    "plt.scatter(X_test_gnb[:,2], y_predicted_gnb, color=\"grey\", label=\"predicted values\")\n",
    "plt.legend()"
   ]
  },
  {
   "cell_type": "code",
   "execution_count": null,
   "id": "6a74f2cd",
   "metadata": {},
   "outputs": [],
   "source": []
  },
  {
   "cell_type": "code",
   "execution_count": null,
   "id": "a036e36a",
   "metadata": {},
   "outputs": [],
   "source": []
  }
 ],
 "metadata": {
  "kernelspec": {
   "display_name": "Python 3",
   "language": "python",
   "name": "python3"
  },
  "language_info": {
   "codemirror_mode": {
    "name": "ipython",
    "version": 3
   },
   "file_extension": ".py",
   "mimetype": "text/x-python",
   "name": "python",
   "nbconvert_exporter": "python",
   "pygments_lexer": "ipython3",
   "version": "3.9.5"
  }
 },
 "nbformat": 4,
 "nbformat_minor": 5
}
