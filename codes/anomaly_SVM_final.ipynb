{
 "cells": [
  {
   "cell_type": "markdown",
   "id": "6b867fc3",
   "metadata": {},
   "source": [
    "# Using SVM Classifier "
   ]
  },
  {
   "cell_type": "markdown",
   "id": "32e7bbd0",
   "metadata": {},
   "source": [
    "### Importing libraries"
   ]
  },
  {
   "cell_type": "code",
   "execution_count": 1,
   "id": "8ff671fd",
   "metadata": {},
   "outputs": [],
   "source": [
    "import pandas as pd\n",
    "import numpy as np\n",
    "import matplotlib.pyplot as plt\n",
    "from sklearn.metrics import mean_squared_error,confusion_matrix, precision_score, recall_score, f1_score, classification_report\n",
    "from sklearn.model_selection import train_test_split, cross_val_score, GridSearchCV, RandomizedSearchCV\n",
    "from sklearn.svm import SVC\n",
    "from imblearn.over_sampling import RandomOverSampler\n",
    "from imblearn.under_sampling import RandomUnderSampler\n",
    "from collections import Counter"
   ]
  },
  {
   "cell_type": "markdown",
   "id": "c8848e0e",
   "metadata": {},
   "source": [
    "### Reading and cleaning data"
   ]
  },
  {
   "cell_type": "code",
   "execution_count": 112,
   "id": "5cac462e",
   "metadata": {},
   "outputs": [],
   "source": [
    "data = pd.read_csv(r\"C:\\Users\\Aarushi Wagh\\Downloads\\code1\\codes\\isolation_forest_test_data.csv\")\n",
    "data.head()\n",
    "\n",
    "data['label'] = data['label'].replace(['Inlier', 'Outlier'],(0,1))\n",
    "data.head()\n",
    "\n",
    "X = data[[\"app_cpu_apps.plugin_x\",\"app_cpu_tc-qos-helper_x\",\"app_cpu_ssh_x\",\"running\",\"used\",\"cached\",\"buffers\"]].values\n",
    "y = data['label'].values\n"
   ]
  },
  {
   "cell_type": "markdown",
   "id": "1b587ed5",
   "metadata": {},
   "source": [
    "### Visualizing the distribution of data"
   ]
  },
  {
   "cell_type": "code",
   "execution_count": 3,
   "id": "b7f50a15",
   "metadata": {},
   "outputs": [
    {
     "data": {
      "text/plain": [
       "<matplotlib.legend.Legend at 0x1c793445550>"
      ]
     },
     "execution_count": 3,
     "metadata": {},
     "output_type": "execute_result"
    },
    {
     "data": {
      "image/png": "[encoded data removed]",
      "text/plain": [
       "<Figure size 432x288 with 1 Axes>"
      ]
     },
     "metadata": {
      "needs_background": "light"
     },
     "output_type": "display_data"
    }
   ],
   "source": [
    "df0 = data[data.label==0]\n",
    "df1 = data[data.label==1]\n",
    "plt.scatter(df0[\"app_cpu_logs_x\"][:10],df0[\"app_cpu_tc-qos-helper_x\"][:10],color=\"green\",marker=\".\",label=\"Inlier\")\n",
    "plt.scatter(df1[\"app_cpu_logs_x\"][:10],df1[\"app_cpu_tc-qos-helper_x\"][:10],color=\"blue\",marker=\".\",label=\"Outlier\")\n",
    "plt.xlabel(\"app cpu logs\")\n",
    "plt.ylabel(\"used memory\")\n",
    "plt.legend()"
   ]
  },
  {
   "cell_type": "markdown",
   "id": "b9ea7475",
   "metadata": {},
   "source": [
    "### Splitting, oversampling and undersampling data"
   ]
  },
  {
   "cell_type": "code",
   "execution_count": 113,
   "id": "c6fbd5c2",
   "metadata": {},
   "outputs": [
    {
     "name": "stdout",
     "output_type": "stream",
     "text": [
      "Counter({0: 3988, 1: 48})\n",
      "Counter({0: 3988, 1: 1994})\n",
      "Counter({0: 2492, 1: 1994})\n"
     ]
    }
   ],
   "source": [
    "X_train_svc, X_test_svc, y_train_svc, y_test_svc = train_test_split(X, y, test_size = 0.20, stratify=y)\n",
    "oversample = RandomOverSampler(sampling_strategy=0.5)\n",
    "undersample = RandomUnderSampler(sampling_strategy=0.8)\n",
    "X_over, y_over = oversample.fit_resample(X_train_svc, y_train_svc)\n",
    "#X_under, y_under = undersample.fit_resample(X_train_svc, y_train_svc)\n",
    "X_both, y_both = undersample.fit_resample(X_over, y_over)\n",
    "print(Counter(y_train_svc))\n",
    "#print(Counter(y_under))\n",
    "print(Counter(y_over))\n",
    "print(Counter(y_both))"
   ]
  },
  {
   "cell_type": "markdown",
   "id": "7d22d35f",
   "metadata": {},
   "source": [
    "### Performing GridSearch to select best parameters for the model"
   ]
  },
  {
   "cell_type": "code",
   "execution_count": 107,
   "id": "67f9f73e",
   "metadata": {},
   "outputs": [],
   "source": [
    "clf = RandomizedSearchCV(SVC(),{'C':[1,10], 'kernel':['rbf','linear']}, cv=3)"
   ]
  },
  {
   "cell_type": "code",
   "execution_count": 108,
   "id": "61e72eae",
   "metadata": {
    "scrolled": true
   },
   "outputs": [
    {
     "name": "stderr",
     "output_type": "stream",
     "text": [
      "d:\\python\\lib\\site-packages\\sklearn\\model_selection\\_search.py:306: UserWarning: The total space of parameters 4 is smaller than n_iter=10. Running 4 iterations. For exhaustive searches, use GridSearchCV.\n",
      "  warnings.warn(\n"
     ]
    }
   ],
   "source": [
    "clf.fit(X_both,y_both.ravel())\n",
    "df = pd.DataFrame(clf.cv_results_)"
   ]
  },
  {
   "cell_type": "code",
   "execution_count": 109,
   "id": "c99ab488",
   "metadata": {},
   "outputs": [
    {
     "name": "stdout",
     "output_type": "stream",
     "text": [
      "  param_kernel param_C  mean_test_score\n",
      "0          rbf       1         0.847079\n",
      "1       linear       1         0.859113\n",
      "2          rbf      10         0.897236\n",
      "3       linear      10         0.858444\n",
      "{'kernel': 'rbf', 'C': 10}\n"
     ]
    }
   ],
   "source": [
    "print(df[['param_kernel','param_C','mean_test_score']])\n",
    "print(clf.best_params_)"
   ]
  },
  {
   "cell_type": "markdown",
   "id": "744e7e13",
   "metadata": {},
   "source": [
    "### Training the model"
   ]
  },
  {
   "cell_type": "code",
   "execution_count": 114,
   "id": "ca8b8f59",
   "metadata": {},
   "outputs": [
    {
     "name": "stdout",
     "output_type": "stream",
     "text": [
      "0.996039603960396\n"
     ]
    }
   ],
   "source": [
    "data_model_svc = SVC(kernel=\"rbf\",C=10)\n",
    "data_model_svc.fit(X_both, y_both.ravel())\n",
    "y_predicted_svc = data_model_svc.predict(X_test_svc)\n",
    "print(data_model_svc.score(X_test_svc,y_test_svc))"
   ]
  },
  {
   "cell_type": "markdown",
   "id": "2a011c55",
   "metadata": {},
   "source": [
    "### Performance metrics"
   ]
  },
  {
   "cell_type": "code",
   "execution_count": 115,
   "id": "f237d49a",
   "metadata": {},
   "outputs": [
    {
     "name": "stdout",
     "output_type": "stream",
     "text": [
      "              precision    recall  f1-score   support\n",
      "\n",
      "           0       1.00      1.00      1.00       998\n",
      "           1       0.90      0.75      0.82        12\n",
      "\n",
      "    accuracy                           1.00      1010\n",
      "   macro avg       0.95      0.87      0.91      1010\n",
      "weighted avg       1.00      1.00      1.00      1010\n",
      "\n"
     ]
    }
   ],
   "source": [
    "report = classification_report(y_test_svc, y_predicted_svc)\n",
    "print(report)"
   ]
  },
  {
   "cell_type": "code",
   "execution_count": 116,
   "id": "4ec99d84",
   "metadata": {},
   "outputs": [
    {
     "name": "stdout",
     "output_type": "stream",
     "text": [
      "[[997   1]\n",
      " [  3   9]]\n",
      "0.9\n",
      "0.75\n",
      "0.8181818181818182\n"
     ]
    }
   ],
   "source": [
    "print(confusion_matrix(y_test_svc, y_predicted_svc))\n",
    "print(precision_score(y_test_svc, y_predicted_svc))\n",
    "print(recall_score(y_test_svc, y_predicted_svc))\n",
    "print(f1_score(y_test_svc, y_predicted_svc))"
   ]
  },
  {
   "cell_type": "markdown",
   "id": "2d477acf",
   "metadata": {},
   "source": [
    "### Visualizing the results of the model by plotting predicted values and actual values"
   ]
  },
  {
   "cell_type": "code",
   "execution_count": 82,
   "id": "9d322001",
   "metadata": {},
   "outputs": [
    {
     "data": {
      "text/plain": [
       "<matplotlib.legend.Legend at 0x1c796bcafd0>"
      ]
     },
     "execution_count": 82,
     "metadata": {},
     "output_type": "execute_result"
    },
    {
     "data": {
      "image/png": "[encoded data removed]",
      "text/plain": [
       "<Figure size 432x288 with 1 Axes>"
      ]
     },
     "metadata": {
      "needs_background": "light"
     },
     "output_type": "display_data"
    }
   ],
   "source": [
    "plt.scatter(X_test_svc[:,2], y_test_svc, color=\"blue\", label=\"actual values\")\n",
    "plt.scatter(X_test_svc[:,2], y_predicted_svc, color=\"grey\", label=\"predicted values\")\n",
    "plt.legend()"
   ]
  },
  {
   "cell_type": "code",
   "execution_count": null,
   "id": "82a39d28",
   "metadata": {},
   "outputs": [],
   "source": []
  },
  {
   "cell_type": "code",
   "execution_count": null,
   "id": "75f3d3e0",
   "metadata": {},
   "outputs": [],
   "source": []
  }
 ],
 "metadata": {
  "kernelspec": {
   "display_name": "Python 3",
   "language": "python",
   "name": "python3"
  },
  "language_info": {
   "codemirror_mode": {
    "name": "ipython",
    "version": 3
   },
   "file_extension": ".py",
   "mimetype": "text/x-python",
   "name": "python",
   "nbconvert_exporter": "python",
   "pygments_lexer": "ipython3",
   "version": "3.9.5"
  }
 },
 "nbformat": 4,
 "nbformat_minor": 5
}
